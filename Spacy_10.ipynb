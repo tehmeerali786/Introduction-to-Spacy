{
  "nbformat": 4,
  "nbformat_minor": 0,
  "metadata": {
    "colab": {
      "provenance": [],
      "toc_visible": true
    },
    "kernelspec": {
      "name": "python3",
      "display_name": "Python 3"
    }
  },
  "cells": [
    {
      "cell_type": "code",
      "metadata": {
        "id": "qh8S0ZxdrpN7"
      },
      "source": [
        "import spacy"
      ],
      "execution_count": null,
      "outputs": []
    },
    {
      "cell_type": "code",
      "metadata": {
        "id": "j9BwcNe4rxh0"
      },
      "source": [
        "nlp = spacy.load('en')"
      ],
      "execution_count": null,
      "outputs": []
    },
    {
      "cell_type": "markdown",
      "metadata": {
        "id": "HlwEDe-Sz1Vc"
      },
      "source": [
        "# **Training the Entity Recognizer**"
      ]
    },
    {
      "cell_type": "markdown",
      "metadata": {
        "id": "HfLVM8GXz8u4"
      },
      "source": [
        "## **Deciding Whether You Need to Train the Entity Recognizer**"
      ]
    },
    {
      "cell_type": "code",
      "metadata": {
        "id": "K5chAR6Hr7tw"
      },
      "source": [
        "doc = nlp(u'Coult you pick me at Solnce?')"
      ],
      "execution_count": null,
      "outputs": []
    },
    {
      "cell_type": "code",
      "metadata": {
        "id": "ksm_oCxdsCgX",
        "colab": {
          "base_uri": "https://localhost:8080/",
          "height": 34
        },
        "outputId": "0085f200-1501-4102-a0bc-28571e5792e7"
      },
      "source": [
        "for ent in doc.ents:\n",
        "  print(ent.text, ent.label_)"
      ],
      "execution_count": null,
      "outputs": [
        {
          "output_type": "stream",
          "text": [
            "Solnce ORG\n"
          ],
          "name": "stdout"
        }
      ]
    },
    {
      "cell_type": "code",
      "metadata": {
        "id": "k0BMUZCSsHc3",
        "colab": {
          "base_uri": "https://localhost:8080/",
          "height": 34
        },
        "outputId": "cfda9009-e0f6-4df0-9055-1d8f5291d192"
      },
      "source": [
        "print(spacy.explain('ORG'))"
      ],
      "execution_count": null,
      "outputs": [
        {
          "output_type": "stream",
          "text": [
            "Companies, agencies, institutions, etc.\n"
          ],
          "name": "stdout"
        }
      ]
    },
    {
      "cell_type": "markdown",
      "metadata": {
        "id": "S4_JB8u80KXn"
      },
      "source": [
        "## **Creating Training Examples**"
      ]
    },
    {
      "cell_type": "code",
      "metadata": {
        "id": "qjlMjfRYsNT2"
      },
      "source": [
        "train_exams = [\n",
        "    ('Could you send a taxi to Solnce?', {'entities': [(25, 32, 'GPE')]}),\n",
        "    ('Is there a flat rate to the airport from Solnce?', {'entities': [(41, 48, 'GPE')]}),\n",
        "    ('How long is the wait for a taxi right now?', {'entities': []})\n",
        "]"
      ],
      "execution_count": null,
      "outputs": []
    },
    {
      "cell_type": "code",
      "metadata": {
        "id": "FIBYxFTCtGyk"
      },
      "source": [
        "First = 'Could you send a taxi to Solnce?'"
      ],
      "execution_count": null,
      "outputs": []
    },
    {
      "cell_type": "code",
      "metadata": {
        "id": "uZTHs31ZtT5k",
        "colab": {
          "base_uri": "https://localhost:8080/",
          "height": 34
        },
        "outputId": "a4f633e4-abdc-419a-fa04-2f42edf35513"
      },
      "source": [
        "len(First)"
      ],
      "execution_count": null,
      "outputs": [
        {
          "output_type": "execute_result",
          "data": {
            "text/plain": [
              "32"
            ]
          },
          "metadata": {
            "tags": []
          },
          "execution_count": 8
        }
      ]
    },
    {
      "cell_type": "code",
      "metadata": {
        "id": "cQYt8_DEtWBE",
        "colab": {
          "base_uri": "https://localhost:8080/",
          "height": 34
        },
        "outputId": "8bc57bbb-0d59-48ca-be60-1a4d6463b076"
      },
      "source": [
        "First[25:32]"
      ],
      "execution_count": null,
      "outputs": [
        {
          "output_type": "execute_result",
          "data": {
            "text/plain": [
              "'Solnce?'"
            ]
          },
          "metadata": {
            "tags": []
          },
          "execution_count": 9
        }
      ]
    },
    {
      "cell_type": "code",
      "metadata": {
        "id": "XFyjwlCatZgE"
      },
      "source": [
        "Second = 'Is there a flat rate to the airport from Solnce?'"
      ],
      "execution_count": null,
      "outputs": []
    },
    {
      "cell_type": "code",
      "metadata": {
        "id": "_ix-0Cr0tqQz",
        "colab": {
          "base_uri": "https://localhost:8080/",
          "height": 34
        },
        "outputId": "83e62ece-f980-4672-fef4-5a48629ff9b1"
      },
      "source": [
        "len(Second)"
      ],
      "execution_count": null,
      "outputs": [
        {
          "output_type": "execute_result",
          "data": {
            "text/plain": [
              "48"
            ]
          },
          "metadata": {
            "tags": []
          },
          "execution_count": 11
        }
      ]
    },
    {
      "cell_type": "code",
      "metadata": {
        "id": "qInw7qectsdE",
        "colab": {
          "base_uri": "https://localhost:8080/",
          "height": 34
        },
        "outputId": "082b336d-950a-4974-b56e-1d68c20c7cfa"
      },
      "source": [
        "Second[41:48]"
      ],
      "execution_count": null,
      "outputs": [
        {
          "output_type": "execute_result",
          "data": {
            "text/plain": [
              "'Solnce?'"
            ]
          },
          "metadata": {
            "tags": []
          },
          "execution_count": 12
        }
      ]
    },
    {
      "cell_type": "markdown",
      "metadata": {
        "id": "66eyPobGuBwj"
      },
      "source": [
        "## **Automating the example creation process**"
      ]
    },
    {
      "cell_type": "code",
      "metadata": {
        "id": "IQAzQgYgt6mj"
      },
      "source": [
        "doc = nlp(u'Could you send a taxi to Solnce? I need to get to Google. Could you send a taxi an hour later?')"
      ],
      "execution_count": null,
      "outputs": []
    },
    {
      "cell_type": "markdown",
      "metadata": {
        "id": "QMVbyLNdumPx"
      },
      "source": [
        " **If we pick up the content from file**"
      ]
    },
    {
      "cell_type": "code",
      "metadata": {
        "id": "4DqcbgIguY2i"
      },
      "source": [
        "# f = open(\"test.txt\", \"rb\")\n",
        "# contents = f.read()\n",
        "# doc = nlp(contents.decode('utf8'))"
      ],
      "execution_count": null,
      "outputs": []
    },
    {
      "cell_type": "code",
      "metadata": {
        "id": "q9DRFofbu6HR"
      },
      "source": [
        "train_exams = []\n",
        "districts = ['Solnce', 'Greenwal', 'Downtown']\n",
        "for sent in doc.sents:\n",
        "  entities = []\n",
        "  for token in sent:\n",
        "    if token.ent_type != 0:\n",
        "      start = token.idx - sent.start_char\n",
        "      if token.text in districts:\n",
        "        entity = (start, start + len(token), 'GPE')\n",
        "      else:\n",
        "        entity = (start, start + len(token), token.ent_type_)\n",
        "      entities.append(entity)\n",
        "\n",
        "  tpl = (sent.text, {'entities': entities})\n",
        "\n",
        "  train_exams.append(tpl)\n"
      ],
      "execution_count": null,
      "outputs": []
    },
    {
      "cell_type": "code",
      "metadata": {
        "id": "JMvhjxAZwgLS",
        "colab": {
          "base_uri": "https://localhost:8080/",
          "height": 68
        },
        "outputId": "c6fe285e-63f0-4aea-8cb0-8d086bcf5fea"
      },
      "source": [
        "train_exams"
      ],
      "execution_count": null,
      "outputs": [
        {
          "output_type": "execute_result",
          "data": {
            "text/plain": [
              "[('Could you send a taxi to Solnce?', {'entities': [(25, 31, 'GPE')]}),\n",
              " ('I need to get to Google.', {'entities': [(17, 23, 'ORG')]}),\n",
              " ('Could you send a taxi an hour later?', {'entities': []})]"
            ]
          },
          "metadata": {
            "tags": []
          },
          "execution_count": 16
        }
      ]
    },
    {
      "cell_type": "markdown",
      "metadata": {
        "id": "CnFkZAyd0hWZ"
      },
      "source": [
        "## **Disabling the Other Pipeline Components**"
      ]
    },
    {
      "cell_type": "code",
      "metadata": {
        "id": "cI5StDCQw7ZO",
        "colab": {
          "base_uri": "https://localhost:8080/",
          "height": 51
        },
        "outputId": "8a6fe9a1-430d-418f-c409-1c228ad744d9"
      },
      "source": [
        "other_pipes = [pipe for pipe in nlp.pipe_names if pipe !='ner']\n",
        "nlp.disable_pipes(*other_pipes)"
      ],
      "execution_count": null,
      "outputs": [
        {
          "output_type": "execute_result",
          "data": {
            "text/plain": [
              "[('tagger', <spacy.pipeline.pipes.Tagger at 0x7fb031748fd0>),\n",
              " ('parser', <spacy.pipeline.pipes.DependencyParser at 0x7fb0316226a8>)]"
            ]
          },
          "metadata": {
            "tags": []
          },
          "execution_count": 17
        }
      ]
    },
    {
      "cell_type": "markdown",
      "metadata": {
        "id": "SbQjxI3-3z_t"
      },
      "source": [
        "## **The Training Process**"
      ]
    },
    {
      "cell_type": "code",
      "metadata": {
        "id": "hTh78AwT15y5"
      },
      "source": [
        "import random\n",
        "from spacy.util import minibatch, compounding"
      ],
      "execution_count": null,
      "outputs": []
    },
    {
      "cell_type": "code",
      "metadata": {
        "id": "LeU8sE1_4A-U"
      },
      "source": [
        "optimizer = nlp.entity.create_optimizer()"
      ],
      "execution_count": null,
      "outputs": []
    },
    {
      "cell_type": "code",
      "metadata": {
        "id": "RITQeVZ74F7y"
      },
      "source": [
        "for i in range(25):\n",
        "  random.shuffle(train_exams)\n",
        "  max_batch_size = 3\n",
        "  batch_size = compounding(2.0, max_batch_size, 1.001)\n",
        "  batches = minibatch(train_exams, size=batch_size)\n",
        "  for batch in batches:\n",
        "    texts, annotations = zip(*batch)\n",
        "    nlp.update(texts, annotations, sgd=optimizer)\n",
        "\n",
        "  ner = nlp.get_pipe('ner')\n",
        "  ner.to_disk('usr/to/ner')"
      ],
      "execution_count": null,
      "outputs": []
    },
    {
      "cell_type": "markdown",
      "metadata": {
        "id": "dxsa9bp4CcKR"
      },
      "source": [
        "## **Evaluating the Updated Recognizer**"
      ]
    },
    {
      "cell_type": "code",
      "metadata": {
        "id": "YqWi7-eR5doV"
      },
      "source": [
        "from spacy.pipeline import EntityRecognizer"
      ],
      "execution_count": null,
      "outputs": []
    },
    {
      "cell_type": "code",
      "metadata": {
        "id": "55P9ZzaGCq4V"
      },
      "source": [
        "nlp = spacy.load('en', disable=['ner'])"
      ],
      "execution_count": null,
      "outputs": []
    },
    {
      "cell_type": "code",
      "metadata": {
        "id": "iH0m2uhXC4XU"
      },
      "source": [
        "ner = EntityRecognizer(nlp.vocab)"
      ],
      "execution_count": null,
      "outputs": []
    },
    {
      "cell_type": "code",
      "metadata": {
        "id": "k13TPXYsC-3j",
        "colab": {
          "base_uri": "https://localhost:8080/",
          "height": 34
        },
        "outputId": "74c08f2c-0b6b-49f3-dc11-41eb7cd0318c"
      },
      "source": [
        "ner.from_disk('/content/usr/to/ner')"
      ],
      "execution_count": null,
      "outputs": [
        {
          "output_type": "execute_result",
          "data": {
            "text/plain": [
              "<spacy.pipeline.pipes.EntityRecognizer at 0x7fb031a7d588>"
            ]
          },
          "metadata": {
            "tags": []
          },
          "execution_count": 24
        }
      ]
    },
    {
      "cell_type": "code",
      "metadata": {
        "id": "l09pw8ZCDHcg"
      },
      "source": [
        "nlp.add_pipe(ner, \"custom_ner\")"
      ],
      "execution_count": null,
      "outputs": []
    },
    {
      "cell_type": "code",
      "metadata": {
        "id": "pys_Z1bVDQ5C",
        "colab": {
          "base_uri": "https://localhost:8080/",
          "height": 34
        },
        "outputId": "f150e490-fa53-4650-98c8-d6c6eb4c9c5f"
      },
      "source": [
        "print(nlp.meta['pipeline'])"
      ],
      "execution_count": null,
      "outputs": [
        {
          "output_type": "stream",
          "text": [
            "['tagger', 'parser', 'custom_ner']\n"
          ],
          "name": "stdout"
        }
      ]
    },
    {
      "cell_type": "code",
      "metadata": {
        "id": "TBQk7MzUDXkz"
      },
      "source": [
        "doc = nlp(u'Could you pick me up at Solnce?')"
      ],
      "execution_count": null,
      "outputs": []
    },
    {
      "cell_type": "code",
      "metadata": {
        "id": "ogh0mTFjD0jh",
        "colab": {
          "base_uri": "https://localhost:8080/",
          "height": 34
        },
        "outputId": "f4f3e052-954e-4a94-8bcf-284fa3ac1603"
      },
      "source": [
        "for ent in doc.ents:\n",
        "  print(ent.text, ent.label_)"
      ],
      "execution_count": null,
      "outputs": [
        {
          "output_type": "stream",
          "text": [
            "Solnce GPE\n"
          ],
          "name": "stdout"
        }
      ]
    },
    {
      "cell_type": "markdown",
      "metadata": {
        "id": "mU4Cz8vViOXS"
      },
      "source": [
        "# **Creating a New Dependency Parser**"
      ]
    },
    {
      "cell_type": "markdown",
      "metadata": {
        "id": "H7LfuJOGiWLF"
      },
      "source": [
        "## **Custom Synctactic Parsing to Understand User Input**"
      ]
    },
    {
      "cell_type": "code",
      "metadata": {
        "id": "QJ341vnBD7Jt"
      },
      "source": [
        "doc = nlp(u'Find a high paid job with no experience.')"
      ],
      "execution_count": null,
      "outputs": []
    },
    {
      "cell_type": "code",
      "metadata": {
        "id": "SGhQQSEairV1",
        "colab": {
          "base_uri": "https://localhost:8080/",
          "height": 54
        },
        "outputId": "7b18c2dc-1144-4e4b-d9a9-45dd2c7de5e0"
      },
      "source": [
        "print([(t.text, t.dep_, t.head.text) for t in doc])"
      ],
      "execution_count": null,
      "outputs": [
        {
          "output_type": "stream",
          "text": [
            "[('Find', 'ROOT', 'Find'), ('a', 'det', 'job'), ('high', 'advmod', 'paid'), ('paid', 'amod', 'job'), ('job', 'dobj', 'Find'), ('with', 'prep', 'Find'), ('no', 'det', 'experience'), ('experience', 'pobj', 'with'), ('.', 'punct', 'Find')]\n"
          ],
          "name": "stdout"
        }
      ]
    },
    {
      "cell_type": "markdown",
      "metadata": {
        "id": "dm5fXkQ9i40l"
      },
      "source": [
        "## **Deciding on Types of Semantic Relations to Use**"
      ]
    },
    {
      "cell_type": "markdown",
      "metadata": {
        "id": "cCRJkUFgi4yO"
      },
      "source": [
        "## **Creating Training Examples**"
      ]
    },
    {
      "cell_type": "code",
      "metadata": {
        "id": "PKZlfYl5ivw0"
      },
      "source": [
        "TRAINING_DATA = [\n",
        "    ('find a high paying job with no experience', {\n",
        "        'heads': [0, 4, 4, 4, 0, 7, 7, 4],\n",
        "        'deps' : ['ROOT', '-', 'QUALITY', 'QUALITY', 'ACTIVITY', '-', 'QUALITY', 'ATTRIBUTE']\n",
        "    }),\n",
        "\n",
        "    ('find good workout classes near home', {\n",
        "        'heads': [0, 4, 4, 4, 0, 4],\n",
        "        'deps' : ['ROOT', '-', 'QUALITY', 'ACTIVITY', 'QUALITY', 'ATTRIBUTE']\n",
        "    })\n",
        "\n",
        "\n",
        "]"
      ],
      "execution_count": null,
      "outputs": []
    },
    {
      "cell_type": "code",
      "metadata": {
        "id": "cM6x2AwljJnD",
        "colab": {
          "base_uri": "https://localhost:8080/",
          "height": 34
        },
        "outputId": "18bfba96-96e6-428d-adff-492dfcfe7ad1"
      },
      "source": [
        "doc = nlp(u'find a high paying job with no experience')\n",
        "heads = []\n",
        "for token in doc:\n",
        "    heads.append(token.head.i)\n",
        "\n",
        "print(heads)"
      ],
      "execution_count": null,
      "outputs": [
        {
          "output_type": "stream",
          "text": [
            "[0, 4, 4, 4, 0, 0, 7, 5]\n"
          ],
          "name": "stdout"
        }
      ]
    },
    {
      "cell_type": "markdown",
      "metadata": {
        "id": "hIa7hLRBjb4N"
      },
      "source": [
        "## **Training the Parser**"
      ]
    },
    {
      "cell_type": "code",
      "metadata": {
        "id": "tR9kv2kRj9id",
        "colab": {
          "base_uri": "https://localhost:8080/",
          "height": 34
        },
        "outputId": "8b5fca62-cdfa-4593-bcea-b931fbd858cc"
      },
      "source": [
        "other_pipes = [pipe for pipe in nlp.pipe_names if pipe !='ner']\n",
        "nlp.disable_pipes(*other_pipes)"
      ],
      "execution_count": null,
      "outputs": [
        {
          "output_type": "execute_result",
          "data": {
            "text/plain": [
              "[('parser', <spacy.pipeline.pipes.DependencyParser at 0x7fb02f8a9048>)]"
            ]
          },
          "metadata": {
            "tags": []
          },
          "execution_count": 44
        }
      ]
    },
    {
      "cell_type": "code",
      "metadata": {
        "id": "neHWta5rjTfC"
      },
      "source": [
        "parser = nlp.create_pipe('parser')\n",
        "nlp.add_pipe(parser, first=True)\n",
        "for text, annotations in TRAINING_DATA:\n",
        "    for d in annotations.get('deps', []):\n",
        "        parser.add_label(d)\n",
        "\n",
        "optimizer = nlp.begin_training()\n",
        "import random\n",
        "for i in range(25):\n",
        "    random.shuffle(TRAINING_DATA)\n",
        "    for text, annotations in TRAINING_DATA:\n",
        "        nlp.update([text], [annotations], sgd=optimizer)\n",
        "\n",
        "parser.to_disk('/content/oracle/to/parser')"
      ],
      "execution_count": null,
      "outputs": []
    },
    {
      "cell_type": "code",
      "metadata": {
        "id": "d2Cv6xuuj4Ea",
        "colab": {
          "base_uri": "https://localhost:8080/",
          "height": 289
        },
        "outputId": "17c7ecf5-b565-46f5-8682-0c4455ccadab"
      },
      "source": [
        "test = []\n",
        "for text, annotations in TRAINING_DATA:\n",
        "  print(text, annotations)\n",
        "  for d in annotations.get('deps', []):\n",
        "    print(d)\n",
        ""
      ],
      "execution_count": null,
      "outputs": [
        {
          "output_type": "stream",
          "text": [
            "find a high paying job with no experience {'heads': [0, 4, 4, 4, 0, 7, 7, 4], 'deps': ['ROOT', '-', 'QUALITY', 'QUALITY', 'ACTIVITY', '-', 'QUALITY', 'ATTRIBUTE']}\n",
            "ROOT\n",
            "-\n",
            "QUALITY\n",
            "QUALITY\n",
            "ACTIVITY\n",
            "-\n",
            "QUALITY\n",
            "ATTRIBUTE\n",
            "find good workout classes near home {'heads': [0, 4, 4, 4, 0, 4], 'deps': ['ROOT', '-', 'QUALITY', 'ACTIVITY', 'QUALITY', 'ATTRIBUTE']}\n",
            "ROOT\n",
            "-\n",
            "QUALITY\n",
            "ACTIVITY\n",
            "QUALITY\n",
            "ATTRIBUTE\n"
          ],
          "name": "stdout"
        }
      ]
    },
    {
      "cell_type": "code",
      "metadata": {
        "id": "oimvjZLiocD-"
      },
      "source": [],
      "execution_count": null,
      "outputs": []
    }
  ]
}