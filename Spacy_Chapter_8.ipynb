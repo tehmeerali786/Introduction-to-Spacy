{
  "nbformat": 4,
  "nbformat_minor": 0,
  "metadata": {
    "colab": {
      "provenance": []
    },
    "kernelspec": {
      "name": "python3",
      "display_name": "Python 3"
    }
  },
  "cells": [
    {
      "cell_type": "code",
      "metadata": {
        "id": "FzhWjDvWhmoq"
      },
      "source": [
        "import spacy"
      ],
      "execution_count": null,
      "outputs": []
    },
    {
      "cell_type": "code",
      "metadata": {
        "id": "_fxajX6UcWDY"
      },
      "source": [
        "nlp = spacy.load('en')"
      ],
      "execution_count": null,
      "outputs": []
    },
    {
      "cell_type": "markdown",
      "metadata": {
        "id": "j-X6kVNodm-q"
      },
      "source": [
        "# **Extracting the Transitive Verb and Direct Object for Intent Recognition**"
      ]
    },
    {
      "cell_type": "markdown",
      "metadata": {
        "id": "44yDjlzJdxy5"
      },
      "source": [
        "## **Obtaining the Transitive Verb/Direct Object Pair**"
      ]
    },
    {
      "cell_type": "code",
      "metadata": {
        "id": "a_nxvxQecZLR",
        "colab": {
          "base_uri": "https://localhost:8080/",
          "height": 34
        },
        "outputId": "05f583cb-ff22-46f0-91f0-4c10e4ce5145"
      },
      "source": [
        "doc = nlp(u'show me the best hotel in berlin.')\n",
        "for token in doc:\n",
        "  if token.dep_ == 'dobj':\n",
        "    print(token.head.text, token.text.capitalize())"
      ],
      "execution_count": null,
      "outputs": [
        {
          "output_type": "stream",
          "text": [
            "show Hotel\n"
          ],
          "name": "stdout"
        }
      ]
    },
    {
      "cell_type": "code",
      "metadata": {
        "id": "4c9oC2ZTeS9Q",
        "colab": {
          "base_uri": "https://localhost:8080/",
          "height": 293
        },
        "outputId": "e258ac70-3a7f-4732-9d4d-2a63e5d20a30"
      },
      "source": [
        "from spacy import displacy\n",
        "\n",
        "displacy.render(doc, style='dep', jupyter=True, options={'distance':90})"
      ],
      "execution_count": null,
      "outputs": [
        {
          "output_type": "display_data",
          "data": {
            "text/html": [
              "<span class=\"tex2jax_ignore\"><svg xmlns=\"http://www.w3.org/2000/svg\" xmlns:xlink=\"http://www.w3.org/1999/xlink\" xml:lang=\"en\" id=\"b3f18242ff6e419eab9da8f3f4648b7d-0\" class=\"displacy\" width=\"680\" height=\"272.0\" direction=\"ltr\" style=\"max-width: none; height: 272.0px; color: #000000; background: #ffffff; font-family: Arial; direction: ltr\">\n",
              "<text class=\"displacy-token\" fill=\"currentColor\" text-anchor=\"middle\" y=\"182.0\">\n",
              "    <tspan class=\"displacy-word\" fill=\"currentColor\" x=\"50\">show</tspan>\n",
              "    <tspan class=\"displacy-tag\" dy=\"2em\" fill=\"currentColor\" x=\"50\">VERB</tspan>\n",
              "</text>\n",
              "\n",
              "<text class=\"displacy-token\" fill=\"currentColor\" text-anchor=\"middle\" y=\"182.0\">\n",
              "    <tspan class=\"displacy-word\" fill=\"currentColor\" x=\"140\">me</tspan>\n",
              "    <tspan class=\"displacy-tag\" dy=\"2em\" fill=\"currentColor\" x=\"140\">PRON</tspan>\n",
              "</text>\n",
              "\n",
              "<text class=\"displacy-token\" fill=\"currentColor\" text-anchor=\"middle\" y=\"182.0\">\n",
              "    <tspan class=\"displacy-word\" fill=\"currentColor\" x=\"230\">the</tspan>\n",
              "    <tspan class=\"displacy-tag\" dy=\"2em\" fill=\"currentColor\" x=\"230\">DET</tspan>\n",
              "</text>\n",
              "\n",
              "<text class=\"displacy-token\" fill=\"currentColor\" text-anchor=\"middle\" y=\"182.0\">\n",
              "    <tspan class=\"displacy-word\" fill=\"currentColor\" x=\"320\">best</tspan>\n",
              "    <tspan class=\"displacy-tag\" dy=\"2em\" fill=\"currentColor\" x=\"320\">ADJ</tspan>\n",
              "</text>\n",
              "\n",
              "<text class=\"displacy-token\" fill=\"currentColor\" text-anchor=\"middle\" y=\"182.0\">\n",
              "    <tspan class=\"displacy-word\" fill=\"currentColor\" x=\"410\">hotel</tspan>\n",
              "    <tspan class=\"displacy-tag\" dy=\"2em\" fill=\"currentColor\" x=\"410\">NOUN</tspan>\n",
              "</text>\n",
              "\n",
              "<text class=\"displacy-token\" fill=\"currentColor\" text-anchor=\"middle\" y=\"182.0\">\n",
              "    <tspan class=\"displacy-word\" fill=\"currentColor\" x=\"500\">in</tspan>\n",
              "    <tspan class=\"displacy-tag\" dy=\"2em\" fill=\"currentColor\" x=\"500\">ADP</tspan>\n",
              "</text>\n",
              "\n",
              "<text class=\"displacy-token\" fill=\"currentColor\" text-anchor=\"middle\" y=\"182.0\">\n",
              "    <tspan class=\"displacy-word\" fill=\"currentColor\" x=\"590\">berlin.</tspan>\n",
              "    <tspan class=\"displacy-tag\" dy=\"2em\" fill=\"currentColor\" x=\"590\">PROPN</tspan>\n",
              "</text>\n",
              "\n",
              "<g class=\"displacy-arrow\">\n",
              "    <path class=\"displacy-arc\" id=\"arrow-b3f18242ff6e419eab9da8f3f4648b7d-0-0\" stroke-width=\"2px\" d=\"M70,137.0 C70,92.0 130.0,92.0 130.0,137.0\" fill=\"none\" stroke=\"currentColor\"/>\n",
              "    <text dy=\"1.25em\" style=\"font-size: 0.8em; letter-spacing: 1px\">\n",
              "        <textPath xlink:href=\"#arrow-b3f18242ff6e419eab9da8f3f4648b7d-0-0\" class=\"displacy-label\" startOffset=\"50%\" side=\"left\" fill=\"currentColor\" text-anchor=\"middle\">dative</textPath>\n",
              "    </text>\n",
              "    <path class=\"displacy-arrowhead\" d=\"M130.0,139.0 L138.0,127.0 122.0,127.0\" fill=\"currentColor\"/>\n",
              "</g>\n",
              "\n",
              "<g class=\"displacy-arrow\">\n",
              "    <path class=\"displacy-arc\" id=\"arrow-b3f18242ff6e419eab9da8f3f4648b7d-0-1\" stroke-width=\"2px\" d=\"M250,137.0 C250,47.0 405.0,47.0 405.0,137.0\" fill=\"none\" stroke=\"currentColor\"/>\n",
              "    <text dy=\"1.25em\" style=\"font-size: 0.8em; letter-spacing: 1px\">\n",
              "        <textPath xlink:href=\"#arrow-b3f18242ff6e419eab9da8f3f4648b7d-0-1\" class=\"displacy-label\" startOffset=\"50%\" side=\"left\" fill=\"currentColor\" text-anchor=\"middle\">det</textPath>\n",
              "    </text>\n",
              "    <path class=\"displacy-arrowhead\" d=\"M250,139.0 L242,127.0 258,127.0\" fill=\"currentColor\"/>\n",
              "</g>\n",
              "\n",
              "<g class=\"displacy-arrow\">\n",
              "    <path class=\"displacy-arc\" id=\"arrow-b3f18242ff6e419eab9da8f3f4648b7d-0-2\" stroke-width=\"2px\" d=\"M340,137.0 C340,92.0 400.0,92.0 400.0,137.0\" fill=\"none\" stroke=\"currentColor\"/>\n",
              "    <text dy=\"1.25em\" style=\"font-size: 0.8em; letter-spacing: 1px\">\n",
              "        <textPath xlink:href=\"#arrow-b3f18242ff6e419eab9da8f3f4648b7d-0-2\" class=\"displacy-label\" startOffset=\"50%\" side=\"left\" fill=\"currentColor\" text-anchor=\"middle\">amod</textPath>\n",
              "    </text>\n",
              "    <path class=\"displacy-arrowhead\" d=\"M340,139.0 L332,127.0 348,127.0\" fill=\"currentColor\"/>\n",
              "</g>\n",
              "\n",
              "<g class=\"displacy-arrow\">\n",
              "    <path class=\"displacy-arc\" id=\"arrow-b3f18242ff6e419eab9da8f3f4648b7d-0-3\" stroke-width=\"2px\" d=\"M70,137.0 C70,2.0 410.0,2.0 410.0,137.0\" fill=\"none\" stroke=\"currentColor\"/>\n",
              "    <text dy=\"1.25em\" style=\"font-size: 0.8em; letter-spacing: 1px\">\n",
              "        <textPath xlink:href=\"#arrow-b3f18242ff6e419eab9da8f3f4648b7d-0-3\" class=\"displacy-label\" startOffset=\"50%\" side=\"left\" fill=\"currentColor\" text-anchor=\"middle\">dobj</textPath>\n",
              "    </text>\n",
              "    <path class=\"displacy-arrowhead\" d=\"M410.0,139.0 L418.0,127.0 402.0,127.0\" fill=\"currentColor\"/>\n",
              "</g>\n",
              "\n",
              "<g class=\"displacy-arrow\">\n",
              "    <path class=\"displacy-arc\" id=\"arrow-b3f18242ff6e419eab9da8f3f4648b7d-0-4\" stroke-width=\"2px\" d=\"M430,137.0 C430,92.0 490.0,92.0 490.0,137.0\" fill=\"none\" stroke=\"currentColor\"/>\n",
              "    <text dy=\"1.25em\" style=\"font-size: 0.8em; letter-spacing: 1px\">\n",
              "        <textPath xlink:href=\"#arrow-b3f18242ff6e419eab9da8f3f4648b7d-0-4\" class=\"displacy-label\" startOffset=\"50%\" side=\"left\" fill=\"currentColor\" text-anchor=\"middle\">prep</textPath>\n",
              "    </text>\n",
              "    <path class=\"displacy-arrowhead\" d=\"M490.0,139.0 L498.0,127.0 482.0,127.0\" fill=\"currentColor\"/>\n",
              "</g>\n",
              "\n",
              "<g class=\"displacy-arrow\">\n",
              "    <path class=\"displacy-arc\" id=\"arrow-b3f18242ff6e419eab9da8f3f4648b7d-0-5\" stroke-width=\"2px\" d=\"M520,137.0 C520,92.0 580.0,92.0 580.0,137.0\" fill=\"none\" stroke=\"currentColor\"/>\n",
              "    <text dy=\"1.25em\" style=\"font-size: 0.8em; letter-spacing: 1px\">\n",
              "        <textPath xlink:href=\"#arrow-b3f18242ff6e419eab9da8f3f4648b7d-0-5\" class=\"displacy-label\" startOffset=\"50%\" side=\"left\" fill=\"currentColor\" text-anchor=\"middle\">pobj</textPath>\n",
              "    </text>\n",
              "    <path class=\"displacy-arrowhead\" d=\"M580.0,139.0 L588.0,127.0 572.0,127.0\" fill=\"currentColor\"/>\n",
              "</g>\n",
              "</svg></span>"
            ],
            "text/plain": [
              "<IPython.core.display.HTML object>"
            ]
          },
          "metadata": {
            "tags": []
          }
        }
      ]
    },
    {
      "cell_type": "markdown",
      "metadata": {
        "id": "hy0pCOTBLP-9"
      },
      "source": [
        "## **Extracting Multiple Intents with token.conjuncts**"
      ]
    },
    {
      "cell_type": "code",
      "metadata": {
        "id": "aTrY7j4NfD22",
        "colab": {
          "base_uri": "https://localhost:8080/",
          "height": 34
        },
        "outputId": "c4c4a733-2a19-4caa-966f-17aad7ec654d"
      },
      "source": [
        "doc = nlp(u'I want a pizza and cola.')\n",
        "\n",
        "# extract direct object and conjunct associated with it\n",
        "\n",
        "for token in doc:\n",
        "  if token.dep_ == 'dobj':\n",
        "    dobj = [token.text]\n",
        "    conj = [t.text for t in token.conjuncts]\n",
        "\n",
        "\n",
        "# compose the list of the extracted elements\n",
        "dobj_conj = dobj + conj\n",
        "print(dobj_conj)"
      ],
      "execution_count": null,
      "outputs": [
        {
          "output_type": "stream",
          "text": [
            "['pizza', 'cola']\n"
          ],
          "name": "stdout"
        }
      ]
    },
    {
      "cell_type": "code",
      "metadata": {
        "id": "99wTEEJGNhEQ",
        "colab": {
          "base_uri": "https://localhost:8080/",
          "height": 248
        },
        "outputId": "8c66bea8-af36-4494-b0eb-a2a24bc58837"
      },
      "source": [
        "displacy.render(doc, style='dep', jupyter=True, options={'distance':90})"
      ],
      "execution_count": null,
      "outputs": [
        {
          "output_type": "display_data",
          "data": {
            "text/html": [
              "<span class=\"tex2jax_ignore\"><svg xmlns=\"http://www.w3.org/2000/svg\" xmlns:xlink=\"http://www.w3.org/1999/xlink\" xml:lang=\"en\" id=\"b89eec401db14a2088b490142f92784f-0\" class=\"displacy\" width=\"590\" height=\"227.0\" direction=\"ltr\" style=\"max-width: none; height: 227.0px; color: #000000; background: #ffffff; font-family: Arial; direction: ltr\">\n",
              "<text class=\"displacy-token\" fill=\"currentColor\" text-anchor=\"middle\" y=\"137.0\">\n",
              "    <tspan class=\"displacy-word\" fill=\"currentColor\" x=\"50\">I</tspan>\n",
              "    <tspan class=\"displacy-tag\" dy=\"2em\" fill=\"currentColor\" x=\"50\">PRON</tspan>\n",
              "</text>\n",
              "\n",
              "<text class=\"displacy-token\" fill=\"currentColor\" text-anchor=\"middle\" y=\"137.0\">\n",
              "    <tspan class=\"displacy-word\" fill=\"currentColor\" x=\"140\">want</tspan>\n",
              "    <tspan class=\"displacy-tag\" dy=\"2em\" fill=\"currentColor\" x=\"140\">VERB</tspan>\n",
              "</text>\n",
              "\n",
              "<text class=\"displacy-token\" fill=\"currentColor\" text-anchor=\"middle\" y=\"137.0\">\n",
              "    <tspan class=\"displacy-word\" fill=\"currentColor\" x=\"230\">a</tspan>\n",
              "    <tspan class=\"displacy-tag\" dy=\"2em\" fill=\"currentColor\" x=\"230\">DET</tspan>\n",
              "</text>\n",
              "\n",
              "<text class=\"displacy-token\" fill=\"currentColor\" text-anchor=\"middle\" y=\"137.0\">\n",
              "    <tspan class=\"displacy-word\" fill=\"currentColor\" x=\"320\">pizza</tspan>\n",
              "    <tspan class=\"displacy-tag\" dy=\"2em\" fill=\"currentColor\" x=\"320\">NOUN</tspan>\n",
              "</text>\n",
              "\n",
              "<text class=\"displacy-token\" fill=\"currentColor\" text-anchor=\"middle\" y=\"137.0\">\n",
              "    <tspan class=\"displacy-word\" fill=\"currentColor\" x=\"410\">and</tspan>\n",
              "    <tspan class=\"displacy-tag\" dy=\"2em\" fill=\"currentColor\" x=\"410\">CCONJ</tspan>\n",
              "</text>\n",
              "\n",
              "<text class=\"displacy-token\" fill=\"currentColor\" text-anchor=\"middle\" y=\"137.0\">\n",
              "    <tspan class=\"displacy-word\" fill=\"currentColor\" x=\"500\">cola.</tspan>\n",
              "    <tspan class=\"displacy-tag\" dy=\"2em\" fill=\"currentColor\" x=\"500\">NOUN</tspan>\n",
              "</text>\n",
              "\n",
              "<g class=\"displacy-arrow\">\n",
              "    <path class=\"displacy-arc\" id=\"arrow-b89eec401db14a2088b490142f92784f-0-0\" stroke-width=\"2px\" d=\"M70,92.0 C70,47.0 135.0,47.0 135.0,92.0\" fill=\"none\" stroke=\"currentColor\"/>\n",
              "    <text dy=\"1.25em\" style=\"font-size: 0.8em; letter-spacing: 1px\">\n",
              "        <textPath xlink:href=\"#arrow-b89eec401db14a2088b490142f92784f-0-0\" class=\"displacy-label\" startOffset=\"50%\" side=\"left\" fill=\"currentColor\" text-anchor=\"middle\">nsubj</textPath>\n",
              "    </text>\n",
              "    <path class=\"displacy-arrowhead\" d=\"M70,94.0 L62,82.0 78,82.0\" fill=\"currentColor\"/>\n",
              "</g>\n",
              "\n",
              "<g class=\"displacy-arrow\">\n",
              "    <path class=\"displacy-arc\" id=\"arrow-b89eec401db14a2088b490142f92784f-0-1\" stroke-width=\"2px\" d=\"M250,92.0 C250,47.0 315.0,47.0 315.0,92.0\" fill=\"none\" stroke=\"currentColor\"/>\n",
              "    <text dy=\"1.25em\" style=\"font-size: 0.8em; letter-spacing: 1px\">\n",
              "        <textPath xlink:href=\"#arrow-b89eec401db14a2088b490142f92784f-0-1\" class=\"displacy-label\" startOffset=\"50%\" side=\"left\" fill=\"currentColor\" text-anchor=\"middle\">det</textPath>\n",
              "    </text>\n",
              "    <path class=\"displacy-arrowhead\" d=\"M250,94.0 L242,82.0 258,82.0\" fill=\"currentColor\"/>\n",
              "</g>\n",
              "\n",
              "<g class=\"displacy-arrow\">\n",
              "    <path class=\"displacy-arc\" id=\"arrow-b89eec401db14a2088b490142f92784f-0-2\" stroke-width=\"2px\" d=\"M160,92.0 C160,2.0 320.0,2.0 320.0,92.0\" fill=\"none\" stroke=\"currentColor\"/>\n",
              "    <text dy=\"1.25em\" style=\"font-size: 0.8em; letter-spacing: 1px\">\n",
              "        <textPath xlink:href=\"#arrow-b89eec401db14a2088b490142f92784f-0-2\" class=\"displacy-label\" startOffset=\"50%\" side=\"left\" fill=\"currentColor\" text-anchor=\"middle\">dobj</textPath>\n",
              "    </text>\n",
              "    <path class=\"displacy-arrowhead\" d=\"M320.0,94.0 L328.0,82.0 312.0,82.0\" fill=\"currentColor\"/>\n",
              "</g>\n",
              "\n",
              "<g class=\"displacy-arrow\">\n",
              "    <path class=\"displacy-arc\" id=\"arrow-b89eec401db14a2088b490142f92784f-0-3\" stroke-width=\"2px\" d=\"M340,92.0 C340,47.0 405.0,47.0 405.0,92.0\" fill=\"none\" stroke=\"currentColor\"/>\n",
              "    <text dy=\"1.25em\" style=\"font-size: 0.8em; letter-spacing: 1px\">\n",
              "        <textPath xlink:href=\"#arrow-b89eec401db14a2088b490142f92784f-0-3\" class=\"displacy-label\" startOffset=\"50%\" side=\"left\" fill=\"currentColor\" text-anchor=\"middle\">cc</textPath>\n",
              "    </text>\n",
              "    <path class=\"displacy-arrowhead\" d=\"M405.0,94.0 L413.0,82.0 397.0,82.0\" fill=\"currentColor\"/>\n",
              "</g>\n",
              "\n",
              "<g class=\"displacy-arrow\">\n",
              "    <path class=\"displacy-arc\" id=\"arrow-b89eec401db14a2088b490142f92784f-0-4\" stroke-width=\"2px\" d=\"M340,92.0 C340,2.0 500.0,2.0 500.0,92.0\" fill=\"none\" stroke=\"currentColor\"/>\n",
              "    <text dy=\"1.25em\" style=\"font-size: 0.8em; letter-spacing: 1px\">\n",
              "        <textPath xlink:href=\"#arrow-b89eec401db14a2088b490142f92784f-0-4\" class=\"displacy-label\" startOffset=\"50%\" side=\"left\" fill=\"currentColor\" text-anchor=\"middle\">conj</textPath>\n",
              "    </text>\n",
              "    <path class=\"displacy-arrowhead\" d=\"M500.0,94.0 L508.0,82.0 492.0,82.0\" fill=\"currentColor\"/>\n",
              "</g>\n",
              "</svg></span>"
            ],
            "text/plain": [
              "<IPython.core.display.HTML object>"
            ]
          },
          "metadata": {
            "tags": []
          }
        }
      ]
    },
    {
      "cell_type": "code",
      "metadata": {
        "id": "0V4hkvS2QCwz",
        "colab": {
          "base_uri": "https://localhost:8080/",
          "height": 34
        },
        "outputId": "1791a486-5468-4dfe-bfa4-84efacf1a5fd"
      },
      "source": [
        "# extract direct object and conjunct associated with it\n",
        "\n",
        "for token in doc:\n",
        "  if token.dep_ == 'dobj':\n",
        "    dobj = [token.text]\n",
        "  if token.dep_ == 'conj':\n",
        "    conj = [token.text]\n",
        "\n",
        "\n",
        "# compose the list of the extracted elements\n",
        "dobj_conj = dobj + conj\n",
        "print(dobj_conj)"
      ],
      "execution_count": null,
      "outputs": [
        {
          "output_type": "stream",
          "text": [
            "['pizza', 'cola']\n"
          ],
          "name": "stdout"
        }
      ]
    },
    {
      "cell_type": "markdown",
      "metadata": {
        "id": "ZLFa1Mw6WGvl"
      },
      "source": [
        "## **Using Word Lists to Extract the Intent**"
      ]
    },
    {
      "cell_type": "code",
      "metadata": {
        "id": "GrN--kERQerI",
        "colab": {
          "base_uri": "https://localhost:8080/",
          "height": 34
        },
        "outputId": "6892b8b5-3187-4189-cee5-f842fa8f1f2b"
      },
      "source": [
        "# apply the pipeline to the sample sentence\n",
        "doc = nlp(u'I want to place an order for a pizza.')\n",
        "# extract the direct object and its transitive verb\n",
        "dobj = ''\n",
        "tverb = ''\n",
        "\n",
        "for token in doc:\n",
        "\n",
        "\n",
        "  if token.dep_ == 'dobj':\n",
        "\n",
        "    dobj = token\n",
        "    tverb = token.head\n",
        "\n",
        "\n",
        "# extract the verb for the intent's definition\n",
        "intentVerb = ''\n",
        "verbList = ['want', 'like', 'need', 'order']\n",
        "if tverb.text in verbList:\n",
        "  intentVerb = tverb\n",
        "\n",
        "else:\n",
        "  if tverb.head.dep_ == 'ROOT':\n",
        "    intentVerb = tverb.head\n",
        "\n",
        "# extract the object for the intent's definition\n",
        "intentObj = ''\n",
        "obJList = ['pizza', 'cola']\n",
        "\n",
        "if dobj.text in obJList:\n",
        "  intentObJ = dobj\n",
        "\n",
        "else:\n",
        "  for child in dobj.children:\n",
        "    if child.dep_ == 'prep':\n",
        "      intentObj = list(child.children)[0]\n",
        "      break\n",
        "\n",
        "    elif child.dep_ == 'compound':\n",
        "      intentObj = child\n",
        "      break\n",
        "\n",
        "# print the intent expressed in sample sentence\n",
        "print(intentVerb.text + intentObj.text.capitalize() )"
      ],
      "execution_count": null,
      "outputs": [
        {
          "output_type": "stream",
          "text": [
            "wantPizza\n"
          ],
          "name": "stdout"
        }
      ]
    },
    {
      "cell_type": "markdown",
      "metadata": {
        "id": "JNmVX5OPobsD"
      },
      "source": [
        "# **Finding the Meanings of Words Using Synonyms and Semantic Similarity**"
      ]
    },
    {
      "cell_type": "markdown",
      "metadata": {
        "id": "EuMXCelCooD3"
      },
      "source": [
        "## **Recognizing Synonyms Using Predefined Lists**"
      ]
    },
    {
      "cell_type": "code",
      "metadata": {
        "id": "F-SNjkPoYyV-"
      },
      "source": [
        "import spacy"
      ],
      "execution_count": null,
      "outputs": []
    },
    {
      "cell_type": "code",
      "metadata": {
        "id": "YSZVaMs0pDot"
      },
      "source": [
        "nlp = spacy.load('en')"
      ],
      "execution_count": null,
      "outputs": []
    },
    {
      "cell_type": "code",
      "metadata": {
        "id": "sXr4KaLFpJIs"
      },
      "source": [
        "from spacy import displacy"
      ],
      "execution_count": null,
      "outputs": []
    },
    {
      "cell_type": "code",
      "metadata": {
        "id": "G1KQayEwpMAL",
        "colab": {
          "base_uri": "https://localhost:8080/",
          "height": 34
        },
        "outputId": "f3d3b70c-9173-4519-add4-de24a7366e83"
      },
      "source": [
        "# apply the pipeline to the sample sentence\n",
        "doc = nlp(u'I want a dish.')\n",
        "# extraxct the transitive verb and its direct object from the dependency tree\n",
        "\n",
        "for token in doc:\n",
        "  if token.dep_ == 'dobj':\n",
        "    verb = token.head.text\n",
        "    dobj = token.text\n",
        "\n",
        "# create a list of tuples for possible verb synonyms\n",
        "verbList = [('order', 'want', 'give', 'make'), ('show', 'find')]\n",
        "\n",
        "# find the tuple containing the transitive verb extracted from the sample\n",
        "verbSyns = [item for item in verbList if verb in item]\n",
        "\n",
        "# create the list of tuples for possible direct object synonyms\n",
        "dobjList = [('pizza', 'pie', 'dish'), ('cola', 'soda')]\n",
        "\n",
        "# find the tuple containing the direct object extracted from the sample\n",
        "dobjSyns = [item for item in dobjList if dobj in item]\n",
        "\n",
        "# replace the transitive verb and the direct object with synonyms supported by the application\n",
        "# and compose the string that represents the intent\n",
        "\n",
        "intent = verbSyns[0][0] + dobjSyns[0][0].capitalize()\n",
        "print(intent)"
      ],
      "execution_count": null,
      "outputs": [
        {
          "output_type": "stream",
          "text": [
            "orderPizza\n"
          ],
          "name": "stdout"
        }
      ]
    },
    {
      "cell_type": "code",
      "metadata": {
        "id": "NxgLl7LwtDPL",
        "colab": {
          "base_uri": "https://localhost:8080/",
          "height": 34
        },
        "outputId": "e84b8c89-a60b-4b3e-bc04-5583920a6148"
      },
      "source": [
        "verbSyns"
      ],
      "execution_count": null,
      "outputs": [
        {
          "output_type": "execute_result",
          "data": {
            "text/plain": [
              "[('order', 'want', 'give', 'make')]"
            ]
          },
          "metadata": {
            "tags": []
          },
          "execution_count": 5
        }
      ]
    },
    {
      "cell_type": "code",
      "metadata": {
        "id": "pIDtUd4DtV7E",
        "colab": {
          "base_uri": "https://localhost:8080/",
          "height": 68
        },
        "outputId": "711297e1-b81b-4d1e-ce95-24a01e697e8b"
      },
      "source": [
        "# apply the pipeline to the sample sentence\n",
        "doc = nlp(u'I use a pizza.')\n",
        "# extraxct the transitive verb and its direct object from the dependency tree\n",
        "\n",
        "for token in doc:\n",
        "  if token.dep_ == 'dobj':\n",
        "    verb = token.head.text\n",
        "    dobj = token.text\n",
        "\n",
        "# create a list of tuples for possible verb synonyms\n",
        "verbList = [('order', 'want', 'give', 'make'), ('show', 'find')]\n",
        "\n",
        "# find the tuple containing the transitive verb extracted from the sample\n",
        "verbSyns = [item if verb in item else 'unrecognized' for item in verbList]\n",
        "print(verbSyns)\n",
        "\n",
        "# create the list of tuples for possible direct object synonyms\n",
        "dobjList = [('pizza', 'pie', 'dish'), ('cola', 'soda')]\n",
        "\n",
        "# find the tuple containing the direct object extracted from the sample\n",
        "dobjSyns = [item for item in dobjList if dobj in item]\n",
        "\n",
        "# replace the transitive verb and the direct object with synonyms supported by the application\n",
        "# and compose the string that represents the intent\n",
        "print(verbSyns == ['unrecognized', 'unrecognized'])\n",
        "if verbSyns == ['unrecognized', 'unrecognized']:\n",
        "  intent = verbSyns[0] + dobjSyns[0][0].capitalize()\n",
        "\n",
        "elif dobjSyns == ['unrecognized']:\n",
        "  intent = verbSyns[0][0] + dobjSyns[0].capitalize()\n",
        "else:\n",
        "  intent = verbSyns[0][0] + dobjSyns[0][0].capitalize()\n",
        "print(intent)"
      ],
      "execution_count": null,
      "outputs": [
        {
          "output_type": "stream",
          "text": [
            "['unrecognized', 'unrecognized']\n",
            "True\n",
            "unrecognizedPizza\n"
          ],
          "name": "stdout"
        }
      ]
    },
    {
      "cell_type": "markdown",
      "metadata": {
        "id": "v1jRmdgehWQr"
      },
      "source": [
        "## **Recognizing Implied Intents**"
      ]
    },
    {
      "cell_type": "code",
      "metadata": {
        "id": "7VbGsc6HvD_s"
      },
      "source": [
        "doc = nlp(u'I feel like eating a pie.')"
      ],
      "execution_count": null,
      "outputs": []
    },
    {
      "cell_type": "code",
      "metadata": {
        "id": "UA9UWdcHkSiL",
        "colab": {
          "base_uri": "https://localhost:8080/",
          "height": 88
        },
        "outputId": "fb629660-a3fc-4c9b-d267-a41c95dc8290"
      },
      "source": [
        "for token in doc:\n",
        "  if token.dep_ == 'dobj':\n",
        "    dobj = token\n",
        "\n",
        "tokens = nlp(u'food')\n",
        "question = ''\n",
        "if dobj.similarity(tokens[0]) > 0.5:\n",
        "  question = 'Would you like to look at our menu?'\n",
        "\n",
        "print(question)"
      ],
      "execution_count": null,
      "outputs": [
        {
          "output_type": "stream",
          "text": [
            "\n"
          ],
          "name": "stdout"
        },
        {
          "output_type": "stream",
          "text": [
            "/usr/lib/python3.6/runpy.py:193: ModelsWarning: [W007] The model you're using has no word vectors loaded, so the result of the Token.similarity method will be based on the tagger, parser and NER, which may not give useful similarity judgements. This may happen if you're using one of the small models, e.g. `en_core_web_sm`, which don't ship with word vectors and only use context-sensitive tensors. You can always add your own word vectors, or use one of the larger models instead if available.\n",
            "  \"__main__\", mod_spec)\n"
          ],
          "name": "stderr"
        }
      ]
    },
    {
      "cell_type": "code",
      "metadata": {
        "id": "NTWYBcSJlNzr",
        "colab": {
          "base_uri": "https://localhost:8080/",
          "height": 34
        },
        "outputId": "057a3ab5-6a13-419c-eaef-3cffdcddbb93"
      },
      "source": [
        "dobj"
      ],
      "execution_count": null,
      "outputs": [
        {
          "output_type": "execute_result",
          "data": {
            "text/plain": [
              "pie"
            ]
          },
          "metadata": {
            "tags": []
          },
          "execution_count": 6
        }
      ]
    },
    {
      "cell_type": "code",
      "metadata": {
        "id": "KROzaryElX9b"
      },
      "source": [
        "pie = nlp(u'pie')"
      ],
      "execution_count": null,
      "outputs": []
    },
    {
      "cell_type": "code",
      "metadata": {
        "id": "irvcE2JUlfo6",
        "colab": {
          "base_uri": "https://localhost:8080/",
          "height": 88
        },
        "outputId": "2e2007fa-51c7-44f3-bac0-65bd205a4b68"
      },
      "source": [
        "pie.similarity(tokens)"
      ],
      "execution_count": null,
      "outputs": [
        {
          "output_type": "stream",
          "text": [
            "/usr/lib/python3.6/runpy.py:193: ModelsWarning: [W007] The model you're using has no word vectors loaded, so the result of the Doc.similarity method will be based on the tagger, parser and NER, which may not give useful similarity judgements. This may happen if you're using one of the small models, e.g. `en_core_web_sm`, which don't ship with word vectors and only use context-sensitive tensors. You can always add your own word vectors, or use one of the larger models instead if available.\n",
            "  \"__main__\", mod_spec)\n"
          ],
          "name": "stderr"
        },
        {
          "output_type": "execute_result",
          "data": {
            "text/plain": [
              "0.6043879135462527"
            ]
          },
          "metadata": {
            "tags": []
          },
          "execution_count": 8
        }
      ]
    },
    {
      "cell_type": "markdown",
      "metadata": {
        "id": "1zKYhiiSjzZ8"
      },
      "source": [
        "# **Extracting Intent from a Sequence of Sentences **"
      ]
    },
    {
      "cell_type": "markdown",
      "metadata": {
        "id": "CL97akV5jzfr"
      },
      "source": [
        "## **Walking the Dependency Structure of a Discourse**"
      ]
    },
    {
      "cell_type": "markdown",
      "metadata": {
        "id": "CaPI2czVkAnv"
      },
      "source": [
        "## **Replacing Proforms with Their Antecedents**"
      ]
    },
    {
      "cell_type": "code",
      "metadata": {
        "id": "q0cXK424ljF6"
      },
      "source": [
        "doc = nlp(u'I have finished my pizza. I want another one' )"
      ],
      "execution_count": null,
      "outputs": []
    },
    {
      "cell_type": "code",
      "metadata": {
        "id": "uveFg7c1kkYY"
      },
      "source": [
        "verbList = [('order', 'want', 'give', 'make'), ('show', 'find')]\n",
        "dobjList = [('pizza', 'pie', 'pizzaz'), ('cola', 'soda')]"
      ],
      "execution_count": null,
      "outputs": []
    },
    {
      "cell_type": "code",
      "metadata": {
        "id": "LgmxZgCqk68O"
      },
      "source": [],
      "execution_count": null,
      "outputs": []
    }
  ]
}