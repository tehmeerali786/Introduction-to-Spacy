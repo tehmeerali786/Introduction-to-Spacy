{
  "nbformat": 4,
  "nbformat_minor": 0,
  "metadata": {
    "colab": {
      "provenance": [],
      "toc_visible": true
    },
    "kernelspec": {
      "name": "python3",
      "display_name": "Python 3"
    }
  },
  "cells": [
    {
      "cell_type": "code",
      "metadata": {
        "id": "t7RVF6k0j6wO"
      },
      "source": [
        "import spacy"
      ],
      "execution_count": null,
      "outputs": []
    },
    {
      "cell_type": "code",
      "metadata": {
        "id": "4FSHB-Umj_3Q"
      },
      "source": [
        "nlp = spacy.load('en')"
      ],
      "execution_count": null,
      "outputs": []
    },
    {
      "cell_type": "code",
      "metadata": {
        "id": "6td5uizlkPuH"
      },
      "source": [
        "doc = nlp(u'I am flying to Frisco')"
      ],
      "execution_count": null,
      "outputs": []
    },
    {
      "cell_type": "code",
      "metadata": {
        "id": "RlEk8h9rkdBG",
        "outputId": "2f1d49b0-448d-47e3-e66a-1aabbf597d48",
        "colab": {
          "base_uri": "https://localhost:8080/",
          "height": 34
        }
      },
      "source": [
        "print([w.text for w in doc])"
      ],
      "execution_count": null,
      "outputs": [
        {
          "output_type": "stream",
          "text": [
            "['I', 'am', 'flying', 'to', 'Frisco']\n"
          ],
          "name": "stdout"
        }
      ]
    },
    {
      "cell_type": "code",
      "metadata": {
        "id": "A6AAF8PZkgwF",
        "outputId": "16b39e73-cb87-447d-b288-3292ad85347f",
        "colab": {
          "base_uri": "https://localhost:8080/",
          "height": 34
        }
      },
      "source": [
        "print(doc)"
      ],
      "execution_count": null,
      "outputs": [
        {
          "output_type": "stream",
          "text": [
            "I am flying to Frisco\n"
          ],
          "name": "stdout"
        }
      ]
    },
    {
      "cell_type": "code",
      "metadata": {
        "id": "ArH58-ofkpaG"
      },
      "source": [
        "doc = nlp(u'this product integrates both libraries for downloading and applying patches.')"
      ],
      "execution_count": null,
      "outputs": []
    },
    {
      "cell_type": "code",
      "metadata": {
        "id": "pjNtk-Adl9PV",
        "outputId": "9360be06-72b0-4e5c-f603-fb1d29a2e354",
        "colab": {
          "base_uri": "https://localhost:8080/",
          "height": 204
        }
      },
      "source": [
        "for token in doc:\n",
        "  print(token.text, token.lemma_)"
      ],
      "execution_count": null,
      "outputs": [
        {
          "output_type": "stream",
          "text": [
            "this this\n",
            "product product\n",
            "integrates integrate\n",
            "both both\n",
            "libraries library\n",
            "for for\n",
            "downloading download\n",
            "and and\n",
            "applying apply\n",
            "patches patch\n",
            ". .\n"
          ],
          "name": "stdout"
        }
      ]
    },
    {
      "cell_type": "code",
      "metadata": {
        "id": "j6e5AARzmJJz"
      },
      "source": [
        "from spacy.symbols import ORTH, LEMMA"
      ],
      "execution_count": null,
      "outputs": []
    },
    {
      "cell_type": "code",
      "metadata": {
        "id": "4Tt4TEA-sOgM"
      },
      "source": [
        "doc = nlp(u'I am flying to Frisco')"
      ],
      "execution_count": null,
      "outputs": []
    },
    {
      "cell_type": "code",
      "metadata": {
        "id": "nbx0dZnDsZ5W",
        "outputId": "a50407e6-e712-4d4a-ed6e-3eba1a5b9dc6",
        "colab": {
          "base_uri": "https://localhost:8080/",
          "height": 34
        }
      },
      "source": [
        "print([w.text for w in doc])"
      ],
      "execution_count": null,
      "outputs": [
        {
          "output_type": "stream",
          "text": [
            "['I', 'am', 'flying', 'to', 'Frisco']\n"
          ],
          "name": "stdout"
        }
      ]
    },
    {
      "cell_type": "code",
      "metadata": {
        "id": "RJqp5Y7gsdDW"
      },
      "source": [
        "special_case = [{ORTH: u'Frisco', LEMMA: u'San Francisco'}]"
      ],
      "execution_count": null,
      "outputs": []
    },
    {
      "cell_type": "code",
      "metadata": {
        "id": "Zv9w57_usy8m",
        "outputId": "65e53a5c-c4bb-464d-b31a-f1fbc4339186",
        "colab": {
          "base_uri": "https://localhost:8080/",
          "height": 34
        }
      },
      "source": [
        "special_case"
      ],
      "execution_count": null,
      "outputs": [
        {
          "output_type": "execute_result",
          "data": {
            "text/plain": [
              "[{65: 'Frisco', 73: 'San Francisco'}]"
            ]
          },
          "metadata": {
            "tags": []
          },
          "execution_count": 15
        }
      ]
    },
    {
      "cell_type": "code",
      "metadata": {
        "id": "uymR7qjPs7mW"
      },
      "source": [
        "nlp.tokenizer.add_special_case(u'Frisco', special_case)"
      ],
      "execution_count": null,
      "outputs": []
    },
    {
      "cell_type": "code",
      "metadata": {
        "id": "A1RBBtlitH_F",
        "outputId": "23523956-b6b2-4c9a-86ae-e4991f2f6cb9",
        "colab": {
          "base_uri": "https://localhost:8080/",
          "height": 34
        }
      },
      "source": [
        "print([w.lemma_ for w in nlp(u'I am flying to Frisco')])"
      ],
      "execution_count": null,
      "outputs": [
        {
          "output_type": "stream",
          "text": [
            "['-PRON-', 'be', 'fly', 'to', 'San Francisco']\n"
          ],
          "name": "stdout"
        }
      ]
    },
    {
      "cell_type": "code",
      "metadata": {
        "id": "I3wgIMLdtStl"
      },
      "source": [
        "doc = nlp(u'I have flown to LA. Now, I am flying to Frisco')"
      ],
      "execution_count": null,
      "outputs": []
    },
    {
      "cell_type": "code",
      "metadata": {
        "id": "ovFl6eHZIdbc",
        "outputId": "03333cb1-c43b-49bd-fc63-c0eeda107784",
        "colab": {
          "base_uri": "https://localhost:8080/",
          "height": 34
        }
      },
      "source": [
        "print([w.text for w in doc if w.tag_=='VBG' or w.tag_=='VB'])"
      ],
      "execution_count": null,
      "outputs": [
        {
          "output_type": "stream",
          "text": [
            "['flying']\n"
          ],
          "name": "stdout"
        }
      ]
    },
    {
      "cell_type": "code",
      "metadata": {
        "id": "XzxbLk-aIo4Q",
        "outputId": "42518849-0967-49d1-c28c-9bd310266326",
        "colab": {
          "base_uri": "https://localhost:8080/",
          "height": 34
        }
      },
      "source": [
        "print([w.text for w in doc if w.pos_=='PROPN'])"
      ],
      "execution_count": null,
      "outputs": [
        {
          "output_type": "stream",
          "text": [
            "['LA', 'Frisco']\n"
          ],
          "name": "stdout"
        }
      ]
    },
    {
      "cell_type": "code",
      "metadata": {
        "id": "Haxo2_uZOOxy",
        "outputId": "84b3ddb3-3c5b-452a-cfcf-2c28e5e08c49",
        "colab": {
          "base_uri": "https://localhost:8080/",
          "height": 238
        }
      },
      "source": [
        "for token in doc:\n",
        "  print(token.text, token.pos_, token.dep_)"
      ],
      "execution_count": null,
      "outputs": [
        {
          "output_type": "stream",
          "text": [
            "I PRON nsubj\n",
            "have AUX aux\n",
            "flown VERB ROOT\n",
            "to ADP prep\n",
            "LA PROPN pobj\n",
            ". PUNCT punct\n",
            "Now ADV advmod\n",
            ", PUNCT punct\n",
            "I PRON nsubj\n",
            "am AUX aux\n",
            "flying VERB ROOT\n",
            "to ADP prep\n",
            "Frisco PROPN pobj\n"
          ],
          "name": "stdout"
        }
      ]
    },
    {
      "cell_type": "code",
      "metadata": {
        "id": "RjfMk2YNZ67U",
        "outputId": "999c5e0e-e30c-4476-a842-a2d1731ddb53",
        "colab": {
          "base_uri": "https://localhost:8080/",
          "height": 238
        }
      },
      "source": [
        "for token in doc:\n",
        "  print(token.head.text, token.dep_, token.text)"
      ],
      "execution_count": null,
      "outputs": [
        {
          "output_type": "stream",
          "text": [
            "flown nsubj I\n",
            "flown aux have\n",
            "flown ROOT flown\n",
            "flown prep to\n",
            "to pobj LA\n",
            "flown punct .\n",
            "flying advmod Now\n",
            "flying punct ,\n",
            "flying nsubj I\n",
            "flying aux am\n",
            "flying ROOT flying\n",
            "flying prep to\n",
            "to pobj Frisco\n"
          ],
          "name": "stdout"
        }
      ]
    },
    {
      "cell_type": "code",
      "metadata": {
        "id": "8K_VloHBamFu",
        "outputId": "f0fb2f73-a466-41ef-9bac-bf278a8c5930",
        "colab": {
          "base_uri": "https://localhost:8080/",
          "height": 51
        }
      },
      "source": [
        "for sent in doc.sents:\n",
        "  print([w.text for w in sent if w.dep_ == 'ROOT' or w.dep_ == 'pobj'])"
      ],
      "execution_count": null,
      "outputs": [
        {
          "output_type": "stream",
          "text": [
            "['flown', 'LA']\n",
            "['flying', 'Frisco']\n"
          ],
          "name": "stdout"
        }
      ]
    },
    {
      "cell_type": "code",
      "metadata": {
        "id": "glTFgQJ8j8uh"
      },
      "source": [
        "special_case = [{ORTH: u'Frisco', LEMMA: u'San Francisco'}]"
      ],
      "execution_count": null,
      "outputs": []
    },
    {
      "cell_type": "code",
      "metadata": {
        "id": "9Wp0_a42o-0h"
      },
      "source": [
        "nlp.tokenizer.add_special_case(u'Frisco', special_case)"
      ],
      "execution_count": null,
      "outputs": []
    },
    {
      "cell_type": "code",
      "metadata": {
        "id": "m1gU8UnOpCV_",
        "outputId": "185ae9bb-9302-4144-8a6d-ea228b2fdbd0",
        "colab": {
          "base_uri": "https://localhost:8080/",
          "height": 34
        }
      },
      "source": [
        "doc"
      ],
      "execution_count": null,
      "outputs": [
        {
          "output_type": "execute_result",
          "data": {
            "text/plain": [
              "I have flown to LA. Now, I am flying to Frisco"
            ]
          },
          "metadata": {
            "tags": []
          },
          "execution_count": 8
        }
      ]
    },
    {
      "cell_type": "code",
      "metadata": {
        "id": "Z9O6JrjrpHU-",
        "outputId": "4ba2bcf8-dbc1-4edd-9f95-16d608a01296",
        "colab": {
          "base_uri": "https://localhost:8080/",
          "height": 34
        }
      },
      "source": [
        "print([w.lemma_ for w in doc])"
      ],
      "execution_count": null,
      "outputs": [
        {
          "output_type": "stream",
          "text": [
            "['-PRON-', 'have', 'fly', 'to', 'LA', '.', 'now', ',', '-PRON-', 'be', 'fly', 'to', 'Frisco']\n"
          ],
          "name": "stdout"
        }
      ]
    },
    {
      "cell_type": "code",
      "metadata": {
        "id": "Er1KKUtMpRp9"
      },
      "source": [
        "doc = nlp(u'I have flown to LA. Now, I am flying to Frisco')"
      ],
      "execution_count": null,
      "outputs": []
    },
    {
      "cell_type": "code",
      "metadata": {
        "id": "mQCWcN85phZu",
        "outputId": "2f0b34f8-88b4-4663-aab3-92b1c61bfaee",
        "colab": {
          "base_uri": "https://localhost:8080/",
          "height": 34
        }
      },
      "source": [
        "print([w.lemma_ for w in doc])"
      ],
      "execution_count": null,
      "outputs": [
        {
          "output_type": "stream",
          "text": [
            "['-PRON-', 'have', 'fly', 'to', 'LA', '.', 'now', ',', '-PRON-', 'be', 'fly', 'to', 'San Francisco']\n"
          ],
          "name": "stdout"
        }
      ]
    },
    {
      "cell_type": "code",
      "metadata": {
        "id": "1I_E-ElVpjsd",
        "outputId": "e5d10aa7-d2c1-418f-bd43-5c5d68bce724",
        "colab": {
          "base_uri": "https://localhost:8080/",
          "height": 51
        }
      },
      "source": [
        "for sent in doc.sents:\n",
        "  print([w.text for w in sent if w.tag_ == 'VBG' or w.dep_=='pobj'])"
      ],
      "execution_count": null,
      "outputs": [
        {
          "output_type": "stream",
          "text": [
            "['LA']\n",
            "['flying', 'Frisco']\n"
          ],
          "name": "stdout"
        }
      ]
    },
    {
      "cell_type": "code",
      "metadata": {
        "id": "c1EbaPwYqwS8"
      },
      "source": [
        "list1 = []\n",
        "for sent in doc.sents:\n",
        "  for w in sent:\n",
        "    if w.tag_ == 'VBG':\n",
        "      list1.append(w.lemma_)\n",
        "      for w in sent:\n",
        "        if w.dep_ == 'pobj':\n",
        "          list1.append(w.lemma_)\n",
        "\n",
        "\n",
        ""
      ],
      "execution_count": null,
      "outputs": []
    },
    {
      "cell_type": "code",
      "metadata": {
        "id": "FNAp_3QjslDg",
        "outputId": "7803189b-0f67-4e27-f8f0-6acf0e181067",
        "colab": {
          "base_uri": "https://localhost:8080/",
          "height": 34
        }
      },
      "source": [
        "print(list1)"
      ],
      "execution_count": null,
      "outputs": [
        {
          "output_type": "stream",
          "text": [
            "['fly', 'San Francisco']\n"
          ],
          "name": "stdout"
        }
      ]
    },
    {
      "cell_type": "code",
      "metadata": {
        "id": "cRcgdVxysqrH",
        "outputId": "ec670e9f-5eb5-48b8-f2d9-2b39c9dd361d",
        "colab": {
          "base_uri": "https://localhost:8080/",
          "height": 51
        }
      },
      "source": [
        "for token in doc:\n",
        "  if token.ent_type !=0:\n",
        "    print(token.text, token.ent_type_)"
      ],
      "execution_count": null,
      "outputs": [
        {
          "output_type": "stream",
          "text": [
            "LA GPE\n",
            "Frisco ORG\n"
          ],
          "name": "stdout"
        }
      ]
    },
    {
      "cell_type": "code",
      "metadata": {
        "id": "MVdPBB4Dw7cB"
      },
      "source": [
        "l1 = 'simple list of words.'"
      ],
      "execution_count": null,
      "outputs": []
    },
    {
      "cell_type": "code",
      "metadata": {
        "id": "7KF0mG3g29RJ",
        "outputId": "c9591320-f8ce-410f-aa69-08c1473e8f65",
        "colab": {
          "base_uri": "https://localhost:8080/",
          "height": 34
        }
      },
      "source": [
        "len(l1)"
      ],
      "execution_count": null,
      "outputs": [
        {
          "output_type": "execute_result",
          "data": {
            "text/plain": [
              "21"
            ]
          },
          "metadata": {
            "tags": []
          },
          "execution_count": 30
        }
      ]
    },
    {
      "cell_type": "code",
      "metadata": {
        "id": "qrVZrGEp2-i0",
        "outputId": "5088ade4-0a5c-457a-cea2-915bbf4bd4af",
        "colab": {
          "base_uri": "https://localhost:8080/",
          "height": 34
        }
      },
      "source": [
        "from spacy.tokens.doc import Doc\n",
        "from spacy.vocab import Vocab\n",
        "doc = Doc(Vocab(), words=[u'Hi', u'There'] )\n",
        "doc"
      ],
      "execution_count": null,
      "outputs": [
        {
          "output_type": "execute_result",
          "data": {
            "text/plain": [
              "Hi There "
            ]
          },
          "metadata": {
            "tags": []
          },
          "execution_count": 31
        }
      ]
    },
    {
      "cell_type": "markdown",
      "metadata": {
        "id": "w8tTyASvogTy"
      },
      "source": [
        "## **Chapter 3**"
      ]
    },
    {
      "cell_type": "code",
      "metadata": {
        "id": "dlWReMoP3x2D"
      },
      "source": [
        "doc = nlp(u'I want a green apple.')"
      ],
      "execution_count": null,
      "outputs": []
    },
    {
      "cell_type": "code",
      "metadata": {
        "id": "4NIMoOqnpD3E",
        "outputId": "c3b4c2f5-ccfd-47f8-d2eb-e74ef557c8b3",
        "colab": {
          "base_uri": "https://localhost:8080/",
          "height": 34
        }
      },
      "source": [
        "[w for w in doc[4].lefts]"
      ],
      "execution_count": null,
      "outputs": [
        {
          "output_type": "execute_result",
          "data": {
            "text/plain": [
              "[a, green]"
            ]
          },
          "metadata": {
            "tags": []
          },
          "execution_count": 5
        }
      ]
    },
    {
      "cell_type": "code",
      "metadata": {
        "id": "hYUFxcyEpIdL",
        "outputId": "b93ce9aa-01d4-4a67-f52d-7b45d7ea0ff1",
        "colab": {
          "base_uri": "https://localhost:8080/",
          "height": 34
        }
      },
      "source": [
        "[w for w in doc[4].children]"
      ],
      "execution_count": null,
      "outputs": [
        {
          "output_type": "execute_result",
          "data": {
            "text/plain": [
              "[a, green]"
            ]
          },
          "metadata": {
            "tags": []
          },
          "execution_count": 6
        }
      ]
    },
    {
      "cell_type": "code",
      "metadata": {
        "id": "OJ_z0j7hpRar",
        "outputId": "73a8e21c-376f-48d1-8bfe-84503bbf8bb1",
        "colab": {
          "base_uri": "https://localhost:8080/",
          "height": 34
        }
      },
      "source": [
        "[w for w in doc[1].rights]"
      ],
      "execution_count": null,
      "outputs": [
        {
          "output_type": "execute_result",
          "data": {
            "text/plain": [
              "[apple, .]"
            ]
          },
          "metadata": {
            "tags": []
          },
          "execution_count": 10
        }
      ]
    },
    {
      "cell_type": "code",
      "metadata": {
        "id": "snHIeMH-pWB7",
        "outputId": "eaf9793c-eb97-434b-c507-9675b087794d",
        "colab": {
          "base_uri": "https://localhost:8080/",
          "height": 34
        }
      },
      "source": [
        "doc[2]"
      ],
      "execution_count": null,
      "outputs": [
        {
          "output_type": "execute_result",
          "data": {
            "text/plain": [
              "a"
            ]
          },
          "metadata": {
            "tags": []
          },
          "execution_count": 9
        }
      ]
    },
    {
      "cell_type": "code",
      "metadata": {
        "id": "Sk_RILIypdtq",
        "outputId": "902cc0a0-394a-4c8b-d7a7-4848706b9a25",
        "colab": {
          "base_uri": "https://localhost:8080/",
          "height": 51
        }
      },
      "source": [
        "doc = nlp(u'A severe storm hit the beach. I started to rain.')\n",
        "for sent in doc.sents:\n",
        "  print([sent[i] for i in range(len(sent))])"
      ],
      "execution_count": null,
      "outputs": [
        {
          "output_type": "stream",
          "text": [
            "[A, severe, storm, hit, the, beach, .]\n",
            "[I, started, to, rain, .]\n"
          ],
          "name": "stdout"
        }
      ]
    },
    {
      "cell_type": "code",
      "metadata": {
        "id": "K-iAmr06w0EY",
        "outputId": "2446299d-9187-4ebb-cafe-1cfcc8b010d2",
        "colab": {
          "base_uri": "https://localhost:8080/",
          "height": 34
        }
      },
      "source": [
        "print([doc[i] for i in range(len(doc))])"
      ],
      "execution_count": null,
      "outputs": [
        {
          "output_type": "stream",
          "text": [
            "[A, severe, storm, hit, the, beach, ., I, started, to, rain, .]\n"
          ],
          "name": "stdout"
        }
      ]
    },
    {
      "cell_type": "code",
      "metadata": {
        "id": "VDvVlQ3Gw-lM",
        "outputId": "d7b73c12-8a7b-4da5-c64d-afde4158689a",
        "colab": {
          "base_uri": "https://localhost:8080/",
          "height": 34
        }
      },
      "source": [
        "for i, sent in enumerate(doc.sents):\n",
        "  if i==1 and sent[0].pos_=='PRON':\n",
        "    print('The second sentence begins with a pronoun.')"
      ],
      "execution_count": null,
      "outputs": [
        {
          "output_type": "stream",
          "text": [
            "The second sentence begins with a pronoun.\n"
          ],
          "name": "stdout"
        }
      ]
    },
    {
      "cell_type": "code",
      "metadata": {
        "id": "R9CZFC5R4EtK",
        "outputId": "bd922242-e3a9-450c-ec40-33625e762a8e",
        "colab": {
          "base_uri": "https://localhost:8080/",
          "height": 51
        }
      },
      "source": [
        "for i, sent in enumerate(doc.sents):\n",
        "  print(i, sent)"
      ],
      "execution_count": null,
      "outputs": [
        {
          "output_type": "stream",
          "text": [
            "0 A severe storm hit the beach.\n",
            "1 I started to rain.\n"
          ],
          "name": "stdout"
        }
      ]
    },
    {
      "cell_type": "code",
      "metadata": {
        "id": "WKJcuf9C4HC-",
        "outputId": "d7b95de5-c22d-4493-fc1b-9fb3f59a5c81",
        "colab": {
          "base_uri": "https://localhost:8080/",
          "height": 34
        }
      },
      "source": [
        "counter = 0\n",
        "for sent in doc.sents:\n",
        "  if sent[len(sent) - 2].pos_ == 'VERB':\n",
        "    counter += 1\n",
        "print(counter)"
      ],
      "execution_count": null,
      "outputs": [
        {
          "output_type": "stream",
          "text": [
            "1\n"
          ],
          "name": "stdout"
        }
      ]
    },
    {
      "cell_type": "code",
      "metadata": {
        "id": "RkeLp5Bv5aIx",
        "outputId": "9a7b8b2b-6e23-45e6-a088-3a2da45daa18",
        "colab": {
          "base_uri": "https://localhost:8080/",
          "height": 51
        }
      },
      "source": [
        "for sent in doc.sents:\n",
        "  print(sent[len(sent)-2])"
      ],
      "execution_count": null,
      "outputs": [
        {
          "output_type": "stream",
          "text": [
            "beach\n",
            "rain\n"
          ],
          "name": "stdout"
        }
      ]
    },
    {
      "cell_type": "code",
      "metadata": {
        "id": "3jJqvztM6Ah6",
        "outputId": "fd7ec50b-2cf3-41d5-f9c8-8e5766495615",
        "colab": {
          "base_uri": "https://localhost:8080/",
          "height": 85
        }
      },
      "source": [
        "doc = nlp(u'A noun chunk is a phrase that has a noun as its head.')\n",
        "for chunk in doc.noun_chunks:\n",
        "  print(chunk)"
      ],
      "execution_count": null,
      "outputs": [
        {
          "output_type": "stream",
          "text": [
            "A noun chunk\n",
            "a phrase\n",
            "a noun\n",
            "its head\n"
          ],
          "name": "stdout"
        }
      ]
    },
    {
      "cell_type": "code",
      "metadata": {
        "id": "RDK0kMpmAurV",
        "outputId": "8d8de01e-1e63-491b-de32-9a380bc7c75f",
        "colab": {
          "base_uri": "https://localhost:8080/",
          "height": 85
        }
      },
      "source": [
        "for token in doc:\n",
        "  if token.pos_ == 'NOUN':\n",
        "    chunk = ''\n",
        "    for w in token.children:\n",
        "      if w.pos_ == 'DET' or w.pos_ == 'ADJ':\n",
        "        chunk = chunk + w.text + ' '\n",
        "\n",
        "    chunk = chunk + token.text\n",
        "    print(chunk)"
      ],
      "execution_count": null,
      "outputs": [
        {
          "output_type": "stream",
          "text": [
            "A noun chunk\n",
            "a phrase\n",
            "a noun\n",
            "its head\n"
          ],
          "name": "stdout"
        }
      ]
    },
    {
      "cell_type": "code",
      "metadata": {
        "id": "52wwE78VBz28",
        "outputId": "bfd3fd3d-77fb-4a75-82a9-23b49c3e9808",
        "colab": {
          "base_uri": "https://localhost:8080/",
          "height": 85
        }
      },
      "source": [
        "for token in doc:\n",
        "  if token.pos_=='NOUN':\n",
        "    chunk = ''\n",
        "    for w in token.children:\n",
        "      if w.pos_ == 'DET' or w.pos_ == 'ADJ':\n",
        "        chunk = chunk + w.text + ' '\n",
        "    chunk = chunk + token.text\n",
        "    print(chunk)\n"
      ],
      "execution_count": null,
      "outputs": [
        {
          "output_type": "stream",
          "text": [
            "A noun chunk\n",
            "a phrase\n",
            "a noun\n",
            "its head\n"
          ],
          "name": "stdout"
        }
      ]
    },
    {
      "cell_type": "code",
      "metadata": {
        "id": "-KlJ4UOuDvfA",
        "outputId": "040d5c4b-02af-475f-edb1-8330713c7dfd",
        "colab": {
          "base_uri": "https://localhost:8080/",
          "height": 85
        }
      },
      "source": [
        "for token in doc:\n",
        "  if token.pos_=='NOUN':\n",
        "    chunk = ''\n",
        "    for w in token.lefts:\n",
        "        chunk = chunk + w.text + ' '\n",
        "    chunk = chunk + token.text\n",
        "    print(chunk)"
      ],
      "execution_count": null,
      "outputs": [
        {
          "output_type": "stream",
          "text": [
            "A noun chunk\n",
            "a phrase\n",
            "a noun\n",
            "its head\n"
          ],
          "name": "stdout"
        }
      ]
    },
    {
      "cell_type": "code",
      "metadata": {
        "id": "swmTJrwgKmqw"
      },
      "source": [
        "doc = nlp('I want a green apple.')"
      ],
      "execution_count": null,
      "outputs": []
    },
    {
      "cell_type": "code",
      "metadata": {
        "id": "R1pCsgF2MkXh",
        "outputId": "4f43d894-c16b-4795-bf99-e547431868ac",
        "colab": {
          "base_uri": "https://localhost:8080/",
          "height": 34
        }
      },
      "source": [
        "doc[2:5]"
      ],
      "execution_count": null,
      "outputs": [
        {
          "output_type": "execute_result",
          "data": {
            "text/plain": [
              "a green apple"
            ]
          },
          "metadata": {
            "tags": []
          },
          "execution_count": 41
        }
      ]
    },
    {
      "cell_type": "code",
      "metadata": {
        "id": "bJN7EI5uMmM2"
      },
      "source": [
        "doc = nlp(u'The Golden Gate Bridge is an iconic landmark in San Francisco.')"
      ],
      "execution_count": null,
      "outputs": []
    },
    {
      "cell_type": "code",
      "metadata": {
        "id": "InhbVu60NtjB",
        "outputId": "cb91e7b0-44aa-4400-a641-fb35d2aa7f14",
        "colab": {
          "base_uri": "https://localhost:8080/",
          "height": 34
        }
      },
      "source": [
        "print([doc[i] for i in range(len(doc))])"
      ],
      "execution_count": null,
      "outputs": [
        {
          "output_type": "stream",
          "text": [
            "[The, Golden, Gate, Bridge, is, an, iconic, landmark, in, San, Francisco, .]\n"
          ],
          "name": "stdout"
        }
      ]
    },
    {
      "cell_type": "code",
      "metadata": {
        "id": "XjxxJXu2Nyul"
      },
      "source": [
        "span = doc[1:4]"
      ],
      "execution_count": null,
      "outputs": []
    },
    {
      "cell_type": "code",
      "metadata": {
        "id": "jOcPN0dtN2El",
        "outputId": "314aec79-fa5c-40b8-94fd-ea71d6dc3ad7",
        "colab": {
          "base_uri": "https://localhost:8080/",
          "height": 34
        }
      },
      "source": [
        "span"
      ],
      "execution_count": null,
      "outputs": [
        {
          "output_type": "execute_result",
          "data": {
            "text/plain": [
              "Golden Gate Bridge"
            ]
          },
          "metadata": {
            "tags": []
          },
          "execution_count": 45
        }
      ]
    },
    {
      "cell_type": "code",
      "metadata": {
        "id": "sPwpU2lpN2mU",
        "outputId": "e74aa151-47a8-4309-9a69-e9581212809b",
        "colab": {
          "base_uri": "https://localhost:8080/",
          "height": 34
        }
      },
      "source": [
        "doc.vocab.strings[span.text]"
      ],
      "execution_count": null,
      "outputs": [
        {
          "output_type": "execute_result",
          "data": {
            "text/plain": [
              "17145121013916591709"
            ]
          },
          "metadata": {
            "tags": []
          },
          "execution_count": 46
        }
      ]
    },
    {
      "cell_type": "code",
      "metadata": {
        "id": "-uG5jHrTPrJR"
      },
      "source": [
        "lem_id = doc.vocab.strings[span.text]"
      ],
      "execution_count": null,
      "outputs": []
    },
    {
      "cell_type": "code",
      "metadata": {
        "id": "5RvsB6i_PxRh",
        "outputId": "5e2f4c97-1635-4105-cd5b-3817e6d873ae",
        "colab": {
          "base_uri": "https://localhost:8080/",
          "height": 34
        }
      },
      "source": [
        "span.merge(lemma=lem_id)"
      ],
      "execution_count": null,
      "outputs": [
        {
          "output_type": "execute_result",
          "data": {
            "text/plain": [
              "Golden Gate Bridge"
            ]
          },
          "metadata": {
            "tags": []
          },
          "execution_count": 48
        }
      ]
    },
    {
      "cell_type": "code",
      "metadata": {
        "id": "ZFdCkpJsP2Eh",
        "outputId": "da3cfd49-72ef-4e4f-c07c-728624df57c6",
        "colab": {
          "base_uri": "https://localhost:8080/",
          "height": 187
        }
      },
      "source": [
        "for token in doc:\n",
        "  print(token.text, token.lemma_, token.pos_, token.dep_)"
      ],
      "execution_count": null,
      "outputs": [
        {
          "output_type": "stream",
          "text": [
            "The the DET det\n",
            "Golden Gate Bridge Golden Gate Bridge PROPN nsubj\n",
            "is be AUX ROOT\n",
            "an an DET det\n",
            "iconic iconic ADJ amod\n",
            "landmark landmark NOUN attr\n",
            "in in ADP prep\n",
            "San San PROPN compound\n",
            "Francisco Francisco PROPN pobj\n",
            ". . PUNCT punct\n"
          ],
          "name": "stdout"
        }
      ]
    },
    {
      "cell_type": "code",
      "metadata": {
        "id": "jeP1NGB7Ssw1"
      },
      "source": [
        "span = doc[-3:-1]"
      ],
      "execution_count": null,
      "outputs": []
    },
    {
      "cell_type": "code",
      "metadata": {
        "id": "HhuLWN8lThfW",
        "outputId": "a6829153-e746-4269-a047-f041956b820c",
        "colab": {
          "base_uri": "https://localhost:8080/",
          "height": 34
        }
      },
      "source": [
        "span"
      ],
      "execution_count": null,
      "outputs": [
        {
          "output_type": "execute_result",
          "data": {
            "text/plain": [
              "San Francisco"
            ]
          },
          "metadata": {
            "tags": []
          },
          "execution_count": 51
        }
      ]
    },
    {
      "cell_type": "code",
      "metadata": {
        "id": "zQ45RuO5TiCJ",
        "outputId": "5ec6bca3-efb1-475f-ee0e-c243c6b1920a",
        "colab": {
          "base_uri": "https://localhost:8080/",
          "height": 34
        }
      },
      "source": [
        "doc.vocab.strings[span.text]"
      ],
      "execution_count": null,
      "outputs": [
        {
          "output_type": "execute_result",
          "data": {
            "text/plain": [
              "10393695292957549069"
            ]
          },
          "metadata": {
            "tags": []
          },
          "execution_count": 53
        }
      ]
    },
    {
      "cell_type": "code",
      "metadata": {
        "id": "weAKsszBTm9b"
      },
      "source": [
        "lem_id = doc.vocab.strings[span.text]"
      ],
      "execution_count": null,
      "outputs": []
    },
    {
      "cell_type": "code",
      "metadata": {
        "id": "V4alJuPYTvZZ",
        "outputId": "d5c4a450-7270-4570-f019-c7b7df3d861a",
        "colab": {
          "base_uri": "https://localhost:8080/",
          "height": 34
        }
      },
      "source": [
        "span.merge(lemma=lem_id)"
      ],
      "execution_count": null,
      "outputs": [
        {
          "output_type": "execute_result",
          "data": {
            "text/plain": [
              "San Francisco"
            ]
          },
          "metadata": {
            "tags": []
          },
          "execution_count": 55
        }
      ]
    },
    {
      "cell_type": "code",
      "metadata": {
        "id": "6Gck_z8RTy6p",
        "outputId": "a226bbe8-846e-4828-e2cf-0af175fc4318",
        "colab": {
          "base_uri": "https://localhost:8080/",
          "height": 170
        }
      },
      "source": [
        "for token in doc:\n",
        "  print(token.text, token.lemma_, token.pos_, token.dep_)"
      ],
      "execution_count": null,
      "outputs": [
        {
          "output_type": "stream",
          "text": [
            "The the DET det\n",
            "Golden Gate Bridge Golden Gate Bridge PROPN nsubj\n",
            "is be AUX ROOT\n",
            "an an DET det\n",
            "iconic iconic ADJ amod\n",
            "landmark landmark NOUN attr\n",
            "in in ADP prep\n",
            "San Francisco San Francisco PROPN pobj\n",
            ". . PUNCT punct\n"
          ],
          "name": "stdout"
        }
      ]
    },
    {
      "cell_type": "code",
      "metadata": {
        "id": "dFm6GmA3T2o5",
        "outputId": "80078448-49cf-4976-cdb1-10d2eb845edc",
        "colab": {
          "base_uri": "https://localhost:8080/",
          "height": 34
        }
      },
      "source": [
        "nlp.pipe_names"
      ],
      "execution_count": null,
      "outputs": [
        {
          "output_type": "execute_result",
          "data": {
            "text/plain": [
              "['tagger', 'parser', 'ner']"
            ]
          },
          "metadata": {
            "tags": []
          },
          "execution_count": 57
        }
      ]
    },
    {
      "cell_type": "code",
      "metadata": {
        "id": "9Iz5FxJWVYz8",
        "outputId": "75993919-90ac-4a6f-9803-8e1a29731f09",
        "colab": {
          "base_uri": "https://localhost:8080/",
          "height": 34
        }
      },
      "source": [
        "print(nlp.meta['lang'] + '_' + nlp.meta['name'])"
      ],
      "execution_count": null,
      "outputs": [
        {
          "output_type": "stream",
          "text": [
            "en_core_web_sm\n"
          ],
          "name": "stdout"
        }
      ]
    },
    {
      "cell_type": "code",
      "metadata": {
        "id": "5Xne7PwWajOq",
        "outputId": "b825a886-994c-444d-cdfd-b29dadb4c11a",
        "colab": {
          "base_uri": "https://localhost:8080/",
          "height": 34
        }
      },
      "source": [
        "print(nlp.meta['lang'])"
      ],
      "execution_count": null,
      "outputs": [
        {
          "output_type": "stream",
          "text": [
            "en\n"
          ],
          "name": "stdout"
        }
      ]
    },
    {
      "cell_type": "code",
      "metadata": {
        "id": "bi_k2t44aq1L",
        "outputId": "73bbf44e-75f7-4e23-f3e9-130f15be05bd",
        "colab": {
          "base_uri": "https://localhost:8080/",
          "height": 34
        }
      },
      "source": [
        "print(nlp.meta['name'])"
      ],
      "execution_count": null,
      "outputs": [
        {
          "output_type": "stream",
          "text": [
            "core_web_sm\n"
          ],
          "name": "stdout"
        }
      ]
    },
    {
      "cell_type": "code",
      "metadata": {
        "id": "FXff9yI0as8c",
        "outputId": "2ce6abce-1c6b-4eba-f5c3-c1284d7b125a",
        "colab": {
          "base_uri": "https://localhost:8080/",
          "height": 34
        }
      },
      "source": [
        "from spacy import util\n",
        "util.get_package_path('en_core_web_sm')"
      ],
      "execution_count": null,
      "outputs": [
        {
          "output_type": "execute_result",
          "data": {
            "text/plain": [
              "PosixPath('/usr/local/lib/python3.6/dist-packages/en_core_web_sm')"
            ]
          },
          "metadata": {
            "tags": []
          },
          "execution_count": 61
        }
      ]
    },
    {
      "cell_type": "code",
      "metadata": {
        "id": "Lq-R8CQfeDMT"
      },
      "source": [
        "doc = nlp(u'I need a taxi to Fasty.')"
      ],
      "execution_count": null,
      "outputs": []
    },
    {
      "cell_type": "code",
      "metadata": {
        "id": "gMbVsfjXj5nO",
        "outputId": "4650bdbd-3b1e-4253-b80c-81acb65b5b2a",
        "colab": {
          "base_uri": "https://localhost:8080/",
          "height": 34
        }
      },
      "source": [
        "for ent in doc.ents:\n",
        "  print(ent.text, ent.label_)"
      ],
      "execution_count": null,
      "outputs": [
        {
          "output_type": "stream",
          "text": [
            "Fasty ORG\n"
          ],
          "name": "stdout"
        }
      ]
    },
    {
      "cell_type": "code",
      "metadata": {
        "id": "h6GHt3G6kByu"
      },
      "source": [
        "LABEL = 'DISTRICT'\n",
        "TRAIN_DATA = [\n",
        "\n",
        "          ('We need to deliver it to Festy.', { 'entities': [(25, 30, 'DISTRICT')]}),\n",
        "          ('I like red oranges', {'entities': []})\n",
        "\n",
        "]"
      ],
      "execution_count": null,
      "outputs": []
    },
    {
      "cell_type": "code",
      "metadata": {
        "id": "A84pf4xmqrbU"
      },
      "source": [
        "l = 'We need to deliver it to Festy.'"
      ],
      "execution_count": null,
      "outputs": []
    },
    {
      "cell_type": "code",
      "metadata": {
        "id": "N1aUgzQWrFwN",
        "outputId": "8fe08175-e327-4e59-9600-1d98319c0a4a",
        "colab": {
          "base_uri": "https://localhost:8080/",
          "height": 34
        }
      },
      "source": [
        "l[25:31]"
      ],
      "execution_count": null,
      "outputs": [
        {
          "output_type": "execute_result",
          "data": {
            "text/plain": [
              "'Festy.'"
            ]
          },
          "metadata": {
            "tags": []
          },
          "execution_count": 66
        }
      ]
    },
    {
      "cell_type": "code",
      "metadata": {
        "id": "hgcjNiUirHpd"
      },
      "source": [
        "ner = nlp.get_pipe('ner')"
      ],
      "execution_count": null,
      "outputs": []
    },
    {
      "cell_type": "code",
      "metadata": {
        "id": "I9GYMlpBrWKM"
      },
      "source": [
        "ner.add_label(LABEL)"
      ],
      "execution_count": null,
      "outputs": []
    },
    {
      "cell_type": "code",
      "metadata": {
        "id": "NfEBS0AArbts",
        "outputId": "166b6a05-015e-4d2b-d956-af7d1b6d27ab",
        "colab": {
          "base_uri": "https://localhost:8080/",
          "height": 34
        }
      },
      "source": [
        "nlp.disable_pipes('tagger')\n",
        "nlp.disable_pipes('parser')"
      ],
      "execution_count": null,
      "outputs": [
        {
          "output_type": "execute_result",
          "data": {
            "text/plain": [
              "[('parser', <spacy.pipeline.pipes.DependencyParser at 0x7fee1fc3e2e8>)]"
            ]
          },
          "metadata": {
            "tags": []
          },
          "execution_count": 69
        }
      ]
    },
    {
      "cell_type": "code",
      "metadata": {
        "id": "5vI7cR35rtrr"
      },
      "source": [
        "optimizer = nlp.entity.create_optimizer()\n",
        "import random"
      ],
      "execution_count": null,
      "outputs": []
    },
    {
      "cell_type": "code",
      "metadata": {
        "id": "yfgawWhhr4Gb"
      },
      "source": [
        "for i in range(25):\n",
        "  random.shuffle(TRAIN_DATA)\n",
        "  for text, annotations in TRAIN_DATA:\n",
        "    nlp.update([text], [annotations], sgd=optimizer)"
      ],
      "execution_count": null,
      "outputs": []
    },
    {
      "cell_type": "code",
      "metadata": {
        "id": "Fq3S0xNZsSBq",
        "outputId": "5d5e2aad-6bde-412d-90ae-b9206d54bfb5",
        "colab": {
          "base_uri": "https://localhost:8080/",
          "height": 34
        }
      },
      "source": [
        "doc = nlp(u'I need a taxi to Festy.')\n",
        "for ent in doc.ents:\n",
        "  print(ent.text, ent.label_)\n"
      ],
      "execution_count": null,
      "outputs": [
        {
          "output_type": "stream",
          "text": [
            "Festy DISTRICT\n"
          ],
          "name": "stdout"
        }
      ]
    },
    {
      "cell_type": "code",
      "metadata": {
        "id": "fL33IUzPtBF5"
      },
      "source": [
        "ner.to_disk('/usr/ner')"
      ],
      "execution_count": null,
      "outputs": []
    },
    {
      "cell_type": "code",
      "metadata": {
        "id": "9X2xlkEhtZ84"
      },
      "source": [
        "'/content/sample_data'"
      ],
      "execution_count": null,
      "outputs": []
    },
    {
      "cell_type": "code",
      "metadata": {
        "id": "iS5jlCbgxz8y"
      },
      "source": [
        "import spacy\n",
        "from spacy.pipeline import EntityRecognizer\n",
        "nlp = spacy.load('en', disable=['ner'])\n",
        "ner = EntityRecognizer(nlp.vocab)\n",
        "ner.from_disk('/usr/ner')\n",
        "nlp.add_pipe(ner)"
      ],
      "execution_count": null,
      "outputs": []
    },
    {
      "cell_type": "code",
      "metadata": {
        "id": "bGEjhO2yyoqQ",
        "outputId": "07b25ca2-940b-4be6-9fbc-a8c644dd051a",
        "colab": {
          "base_uri": "https://localhost:8080/",
          "height": 34
        }
      },
      "source": [
        "doc = nlp(u'We need to deliver it to Festy.')\n",
        "for ent in doc.ents:\n",
        "  print(ent.text, ent.label_)"
      ],
      "execution_count": null,
      "outputs": [
        {
          "output_type": "stream",
          "text": [
            "Festy ORG\n"
          ],
          "name": "stdout"
        }
      ]
    },
    {
      "cell_type": "code",
      "metadata": {
        "id": "GFNM4YubzIet",
        "outputId": "3afa77f5-4fed-483e-fa1e-9d3eb2b1e88b",
        "colab": {
          "base_uri": "https://localhost:8080/",
          "height": 34
        }
      },
      "source": [
        "!pip install Cython"
      ],
      "execution_count": null,
      "outputs": [
        {
          "output_type": "stream",
          "text": [
            "Requirement already satisfied: Cython in /usr/local/lib/python3.6/dist-packages (0.29.18)\n"
          ],
          "name": "stdout"
        }
      ]
    },
    {
      "cell_type": "code",
      "metadata": {
        "id": "P1islUfo5TiW"
      },
      "source": [
        "from gensim.test.utils import datapath, get_tmpfile"
      ],
      "execution_count": null,
      "outputs": []
    },
    {
      "cell_type": "code",
      "metadata": {
        "id": "ceOYVoUe1WIj"
      },
      "source": [
        "from gensim.corpora import WikiCorpus, MmCorpus"
      ],
      "execution_count": null,
      "outputs": []
    },
    {
      "cell_type": "code",
      "metadata": {
        "id": "aw0Srnw21dSu"
      },
      "source": [
        "path_to_wiki_dump = datapath(\"/content/enwiki-latest-pages-articles14.xml-p7697595p7744800.bz2\")"
      ],
      "execution_count": null,
      "outputs": []
    },
    {
      "cell_type": "code",
      "metadata": {
        "id": "U6hwJl0m10wN"
      },
      "source": [
        "corpus_path = get_tmpfile(\"wiki-corpus.mm\")"
      ],
      "execution_count": null,
      "outputs": []
    },
    {
      "cell_type": "code",
      "metadata": {
        "id": "_PM0GK3S2BKt"
      },
      "source": [
        "wiki = WikiCorpus(path_to_wiki_dump)"
      ],
      "execution_count": null,
      "outputs": []
    },
    {
      "cell_type": "code",
      "metadata": {
        "id": "8qI_shJq2Pw8",
        "outputId": "408909a6-1896-4517-b2cb-d1cf00a87db0",
        "colab": {
          "base_uri": "https://localhost:8080/",
          "height": 71
        }
      },
      "source": [
        "MmCorpus.serialize(corpus_path, wiki)"
      ],
      "execution_count": null,
      "outputs": [
        {
          "output_type": "stream",
          "text": [
            "/usr/local/lib/python3.6/dist-packages/smart_open/smart_open_lib.py:253: UserWarning: This function is deprecated, use smart_open.open instead. See the migration notes for details: https://github.com/RaRe-Technologies/smart_open/blob/master/README.rst#migrating-to-the-new-open-function\n",
            "  'See the migration notes for details: %s' % _MIGRATION_NOTES_URL\n"
          ],
          "name": "stderr"
        }
      ]
    },
    {
      "cell_type": "code",
      "metadata": {
        "id": "RIfDrS9k2Y5s",
        "outputId": "9bec90c7-0d4e-457f-da1e-3752a0b4c1e1",
        "colab": {
          "base_uri": "https://localhost:8080/",
          "height": 275
        }
      },
      "source": [
        "!python setup.py build_ext --inplace"
      ],
      "execution_count": null,
      "outputs": [
        {
          "output_type": "stream",
          "text": [
            "Warning: passing language='c++' to cythonize() is deprecated. Instead, put \"# distutils: language=c++\" in your .pyx or .pxd file(s)\n",
            "running build_ext\n",
            "building 'spacytext' extension\n",
            "creating build\n",
            "creating build/temp.linux-x86_64-3.6\n",
            "x86_64-linux-gnu-gcc -pthread -DNDEBUG -g -fwrapv -O2 -Wall -g -fstack-protector-strong -Wformat -Werror=format-security -Wdate-time -D_FORTIFY_SOURCE=2 -fPIC -I/usr/local/lib/python3.6/dist-packages/numpy/core/include -I/usr/include/python3.6m -c spacytext.cpp -o build/temp.linux-x86_64-3.6/spacytext.o\n",
            "In file included from \u001b[01m\u001b[K/usr/local/lib/python3.6/dist-packages/numpy/core/include/numpy/ndarraytypes.h:1832:0\u001b[m\u001b[K,\n",
            "                 from \u001b[01m\u001b[K/usr/local/lib/python3.6/dist-packages/numpy/core/include/numpy/ndarrayobject.h:12\u001b[m\u001b[K,\n",
            "                 from \u001b[01m\u001b[K/usr/local/lib/python3.6/dist-packages/numpy/core/include/numpy/arrayobject.h:4\u001b[m\u001b[K,\n",
            "                 from \u001b[01m\u001b[Kspacytext.cpp:627\u001b[m\u001b[K:\n",
            "\u001b[01m\u001b[K/usr/local/lib/python3.6/dist-packages/numpy/core/include/numpy/npy_1_7_deprecated_api.h:17:2:\u001b[m\u001b[K \u001b[01;35m\u001b[Kwarning: \u001b[m\u001b[K#warning \"Using deprecated NumPy API, disable it with \" \"#define NPY_NO_DEPRECATED_API NPY_1_7_API_VERSION\" [\u001b[01;35m\u001b[K-Wcpp\u001b[m\u001b[K]\n",
            " #\u001b[01;35m\u001b[Kwarning\u001b[m\u001b[K \"Using deprecated NumPy API, disable it with \" \\\n",
            "  \u001b[01;35m\u001b[K^~~~~~~\u001b[m\u001b[K\n",
            "x86_64-linux-gnu-g++ -pthread -shared -Wl,-O1 -Wl,-Bsymbolic-functions -Wl,-Bsymbolic-functions -Wl,-z,relro -Wl,-Bsymbolic-functions -Wl,-z,relro -g -fstack-protector-strong -Wformat -Werror=format-security -Wdate-time -D_FORTIFY_SOURCE=2 build/temp.linux-x86_64-3.6/spacytext.o -o /content/spacytext.cpython-36m-x86_64-linux-gnu.so\n"
          ],
          "name": "stdout"
        }
      ]
    },
    {
      "cell_type": "code",
      "metadata": {
        "id": "pDwuDyy3GLoI"
      },
      "source": [
        "from spacytext import main"
      ],
      "execution_count": null,
      "outputs": []
    },
    {
      "cell_type": "code",
      "metadata": {
        "id": "6SA8XlIMJq3Y",
        "outputId": "b48b3be6-b63d-472a-e98f-80843ad78176",
        "colab": {
          "base_uri": "https://localhost:8080/",
          "height": 231
        }
      },
      "source": [
        "import spacy\n",
        "nlp = spacy.load('en')\n",
        "f = open('test.txt', 'rb')\n",
        "contents = f.read()\n",
        "doc = nlp(contents[:100000].decode('utf8'))\n",
        "main(doc)"
      ],
      "execution_count": null,
      "outputs": [
        {
          "output_type": "error",
          "ename": "FileNotFoundError",
          "evalue": "ignored",
          "traceback": [
            "\u001b[0;31m---------------------------------------------------------------------------\u001b[0m",
            "\u001b[0;31mFileNotFoundError\u001b[0m                         Traceback (most recent call last)",
            "\u001b[0;32m<ipython-input-14-25eeec5353f2>\u001b[0m in \u001b[0;36m<module>\u001b[0;34m()\u001b[0m\n\u001b[1;32m      1\u001b[0m \u001b[0;32mimport\u001b[0m \u001b[0mspacy\u001b[0m\u001b[0;34m\u001b[0m\u001b[0;34m\u001b[0m\u001b[0m\n\u001b[1;32m      2\u001b[0m \u001b[0mnlp\u001b[0m \u001b[0;34m=\u001b[0m \u001b[0mspacy\u001b[0m\u001b[0;34m.\u001b[0m\u001b[0mload\u001b[0m\u001b[0;34m(\u001b[0m\u001b[0;34m'en'\u001b[0m\u001b[0;34m)\u001b[0m\u001b[0;34m\u001b[0m\u001b[0;34m\u001b[0m\u001b[0m\n\u001b[0;32m----> 3\u001b[0;31m \u001b[0mf\u001b[0m \u001b[0;34m=\u001b[0m \u001b[0mopen\u001b[0m\u001b[0;34m(\u001b[0m\u001b[0;34m'test.txt'\u001b[0m\u001b[0;34m,\u001b[0m \u001b[0;34m'rb'\u001b[0m\u001b[0;34m)\u001b[0m\u001b[0;34m\u001b[0m\u001b[0;34m\u001b[0m\u001b[0m\n\u001b[0m\u001b[1;32m      4\u001b[0m \u001b[0mcontents\u001b[0m \u001b[0;34m=\u001b[0m \u001b[0mf\u001b[0m\u001b[0;34m.\u001b[0m\u001b[0mread\u001b[0m\u001b[0;34m(\u001b[0m\u001b[0;34m)\u001b[0m\u001b[0;34m\u001b[0m\u001b[0;34m\u001b[0m\u001b[0m\n\u001b[1;32m      5\u001b[0m \u001b[0mdoc\u001b[0m \u001b[0;34m=\u001b[0m \u001b[0mnlp\u001b[0m\u001b[0;34m(\u001b[0m\u001b[0mcontents\u001b[0m\u001b[0;34m[\u001b[0m\u001b[0;34m:\u001b[0m\u001b[0;36m100000\u001b[0m\u001b[0;34m]\u001b[0m\u001b[0;34m.\u001b[0m\u001b[0mdecode\u001b[0m\u001b[0;34m(\u001b[0m\u001b[0;34m'utf8'\u001b[0m\u001b[0;34m)\u001b[0m\u001b[0;34m)\u001b[0m\u001b[0;34m\u001b[0m\u001b[0;34m\u001b[0m\u001b[0m\n",
            "\u001b[0;31mFileNotFoundError\u001b[0m: [Errno 2] No such file or directory: 'test.txt'"
          ]
        }
      ]
    },
    {
      "cell_type": "code",
      "metadata": {
        "id": "OC5gQz4BKD00"
      },
      "source": [],
      "execution_count": null,
      "outputs": []
    },
    {
      "cell_type": "markdown",
      "metadata": {
        "id": "5jeDkTT6X6D8"
      },
      "source": [
        "## **Chapter 4**"
      ]
    },
    {
      "cell_type": "code",
      "metadata": {
        "id": "T-S2MgLUX9fK"
      },
      "source": [
        "import spacy"
      ],
      "execution_count": null,
      "outputs": []
    },
    {
      "cell_type": "code",
      "metadata": {
        "id": "jIa9UlwyYYxQ",
        "outputId": "30466bfa-8642-4ca7-be14-bab1d694310d",
        "colab": {
          "base_uri": "https://localhost:8080/",
          "height": 153
        }
      },
      "source": [
        "nlp = spacy.load('en')\n",
        "doc = nlp(u\"The firm earned 1.5 million in 2017.\")\n",
        "for token in doc:\n",
        "  print(token.text, token.pos_, spacy.explain(token.pos_))"
      ],
      "execution_count": null,
      "outputs": [
        {
          "output_type": "stream",
          "text": [
            "The DET determiner\n",
            "firm NOUN noun\n",
            "earned VERB verb\n",
            "1.5 NUM numeral\n",
            "million NUM numeral\n",
            "in ADP adposition\n",
            "2017 NUM numeral\n",
            ". PUNCT punctuation\n"
          ],
          "name": "stdout"
        }
      ]
    },
    {
      "cell_type": "code",
      "metadata": {
        "id": "FjVfGGwhYsvY",
        "outputId": "9ac1c19b-93c6-4185-e986-5174f42f7833",
        "colab": {
          "base_uri": "https://localhost:8080/",
          "height": 153
        }
      },
      "source": [
        "for token in doc:\n",
        "  print(token.text, token.pos_, token.tag_, spacy.explain(token.tag_))"
      ],
      "execution_count": null,
      "outputs": [
        {
          "output_type": "stream",
          "text": [
            "The DET DT determiner\n",
            "firm NOUN NN noun, singular or mass\n",
            "earned VERB VBD verb, past tense\n",
            "1.5 NUM CD cardinal number\n",
            "million NUM CD cardinal number\n",
            "in ADP IN conjunction, subordinating or preposition\n",
            "2017 NUM CD cardinal number\n",
            ". PUNCT . punctuation mark, sentence closer\n"
          ],
          "name": "stdout"
        }
      ]
    },
    {
      "cell_type": "code",
      "metadata": {
        "id": "fHi8ZJKSZ5A1"
      },
      "source": [
        "import spacy"
      ],
      "execution_count": null,
      "outputs": []
    },
    {
      "cell_type": "code",
      "metadata": {
        "id": "_Mi3jBept_RU",
        "outputId": "e748eef7-608b-4c21-c0b2-89c9f46cface",
        "colab": {
          "base_uri": "https://localhost:8080/",
          "height": 34
        }
      },
      "source": [
        "nlp = spacy.load('en')\n",
        "doc = nlp(u'The firm earned $1.5 million in 2017.')\n",
        "phrase = ' '\n",
        "for token in doc:\n",
        "  if token.tag_ == '$':\n",
        "    phrase = token.text\n",
        "    i = token.i+1\n",
        "    while doc[i].tag_ == 'CD':\n",
        "      phrase += doc[i].text + ' '\n",
        "      i +=1\n",
        "    break\n",
        "\n",
        "phrase = phrase[:-1]\n",
        "print(phrase)"
      ],
      "execution_count": null,
      "outputs": [
        {
          "output_type": "stream",
          "text": [
            "$1.5 million\n"
          ],
          "name": "stdout"
        }
      ]
    },
    {
      "cell_type": "code",
      "metadata": {
        "id": "gDAlo4ayvSKA",
        "outputId": "9c852204-1c7d-4444-b548-2c6543837303",
        "colab": {
          "base_uri": "https://localhost:8080/",
          "height": 51
        }
      },
      "source": [
        "nlp = spacy.load('en')\n",
        "doc = nlp(u'The firm earned $1.5 million in 2017in comparison with $1.2 million in 2016.')\n",
        "phrase = ' '\n",
        "for token in doc:\n",
        "  if token.tag_ == '$':\n",
        "    phrase = token.text\n",
        "    i = token.i+1\n",
        "    while doc[i].tag_ == 'CD':\n",
        "      phrase += doc[i].text + ' '\n",
        "      i +=1\n",
        "    phrase = phrase[:-1]\n",
        "    print(phrase)"
      ],
      "execution_count": null,
      "outputs": [
        {
          "output_type": "stream",
          "text": [
            "$1.5 million\n",
            "$1.2 million\n"
          ],
          "name": "stdout"
        }
      ]
    },
    {
      "cell_type": "code",
      "metadata": {
        "id": "2Ef5ctM04BQT",
        "outputId": "73a6eee8-1350-4655-f720-9d3e684bac45",
        "colab": {
          "base_uri": "https://localhost:8080/",
          "height": 170
        }
      },
      "source": [
        "doc = nlp(u'I can promise it is worth your time.')\n",
        "for token in doc:\n",
        "  print(token.text, token.pos_, token.tag_)"
      ],
      "execution_count": null,
      "outputs": [
        {
          "output_type": "stream",
          "text": [
            "I PRON PRP\n",
            "can VERB MD\n",
            "promise VERB VB\n",
            "it PRON PRP\n",
            "is AUX VBZ\n",
            "worth ADJ JJ\n",
            "your DET PRP$\n",
            "time NOUN NN\n",
            ". PUNCT .\n"
          ],
          "name": "stdout"
        }
      ]
    },
    {
      "cell_type": "code",
      "metadata": {
        "id": "rokuZfYy6ENJ"
      },
      "source": [
        "doc = nlp(u'I can promise it is worth your time.')"
      ],
      "execution_count": null,
      "outputs": []
    },
    {
      "cell_type": "code",
      "metadata": {
        "id": "auAs9i0iG8zV"
      },
      "source": [
        "sent = ' '"
      ],
      "execution_count": null,
      "outputs": []
    },
    {
      "cell_type": "code",
      "metadata": {
        "id": "4Uw70FJvG_ug"
      },
      "source": [
        "for i, token in enumerate(doc):\n",
        "  if token.tag_ == 'PRP' and doc[i+1].tag_ == 'MD' and doc[i+2].tag_ == 'VB':\n",
        "    sent = doc[i+1].text.capitalize() + ' ' + doc[i].text\n",
        "    sent = sent + ' ' + doc[i+2:].text\n",
        "    break\n",
        "\n"
      ],
      "execution_count": null,
      "outputs": []
    },
    {
      "cell_type": "code",
      "metadata": {
        "id": "Ec3iQGdXJYaQ"
      },
      "source": [
        "doc = nlp(sent)"
      ],
      "execution_count": null,
      "outputs": []
    },
    {
      "cell_type": "code",
      "metadata": {
        "id": "wzvD63xdKXyL"
      },
      "source": [
        "for i, token in enumerate(doc):\n",
        "  if token.tag_ == 'PRP' and token.text == 'I':\n",
        "    sent = doc[:i].text + ' you ' + doc[i+1:].text\n",
        "    break"
      ],
      "execution_count": null,
      "outputs": []
    },
    {
      "cell_type": "code",
      "metadata": {
        "id": "ID-carjvLFS4"
      },
      "source": [
        "doc = nlp(sent)"
      ],
      "execution_count": null,
      "outputs": []
    },
    {
      "cell_type": "code",
      "metadata": {
        "id": "ijopWX1TMWmr"
      },
      "source": [
        "for i, token in enumerate(doc):\n",
        "  if token.tag_ == 'PRP$' and token.text == 'your':\n",
        "    sent = doc[:i].text + ' my ' + doc[i+1:].text\n",
        "    break"
      ],
      "execution_count": null,
      "outputs": []
    },
    {
      "cell_type": "code",
      "metadata": {
        "id": "tsAF38rLz0A6"
      },
      "source": [],
      "execution_count": null,
      "outputs": []
    },
    {
      "cell_type": "code",
      "metadata": {
        "id": "77_AGTAZM1ZV"
      },
      "source": [
        "doc = nlp(sent)"
      ],
      "execution_count": null,
      "outputs": []
    },
    {
      "cell_type": "code",
      "metadata": {
        "id": "hz_NoFdXNOqV"
      },
      "source": [
        "for i, token in enumerate(doc):\n",
        "  if token.tag_ == 'VB':\n",
        "    sent = doc[:i].text + ' really ' + doc[i:].text\n",
        "    break"
      ],
      "execution_count": null,
      "outputs": []
    },
    {
      "cell_type": "code",
      "metadata": {
        "id": "yx3HPthVNmNj"
      },
      "source": [
        "doc = nlp(sent)"
      ],
      "execution_count": null,
      "outputs": []
    },
    {
      "cell_type": "code",
      "metadata": {
        "id": "uasAmEtCO70m"
      },
      "source": [
        "sent = doc[:len(doc)-1].text + '?'"
      ],
      "execution_count": null,
      "outputs": []
    },
    {
      "cell_type": "code",
      "metadata": {
        "id": "4XlpMBlrPDRw",
        "outputId": "bfb5381b-b158-4325-fde0-8e86a22fbf80",
        "colab": {
          "base_uri": "https://localhost:8080/",
          "height": 34
        }
      },
      "source": [
        "print(sent)"
      ],
      "execution_count": null,
      "outputs": [
        {
          "output_type": "stream",
          "text": [
            "Can you really promise it is worth my time?\n"
          ],
          "name": "stdout"
        }
      ]
    },
    {
      "cell_type": "code",
      "metadata": {
        "id": "90lQHjkGPFhK"
      },
      "source": [
        "def doc_Q(stringg, sent=' '):\n",
        "  doc = nlp(stringg)\n",
        "  for i, token in enumerate(doc):\n",
        "    if token.tag_ == 'PRP' and doc[i+1].tag_ == 'MD' and doc[i+2].tag_ == 'VB':\n",
        "      sent = doc[i+1].text.capitalize() + ' you ' + doc[i+2:].text\n",
        "    elif token.tag_ == 'PRP$' and token.text == 'your':\n",
        "        sent = sent.replace('your', 'my')\n",
        "        doc = nlp(sent)\n",
        "\n",
        "  for i, token in enumerate(doc):\n",
        "     if token.tag_ == 'VB':\n",
        "        sent = doc[:i].text + ' really ' + doc[i:].text\n",
        "        doc = sent\n",
        "\n",
        "  sent = doc[:len(doc)-1] + '?'\n",
        "  doc = sent\n",
        "\n",
        "\n",
        "\n",
        "  print(doc)\n",
        "  print(sent)"
      ],
      "execution_count": null,
      "outputs": []
    },
    {
      "cell_type": "code",
      "metadata": {
        "id": "dvOYiElUv1Lz",
        "outputId": "364bfade-cd9e-4d81-ac62-91076fe3c900",
        "colab": {
          "base_uri": "https://localhost:8080/",
          "height": 51
        }
      },
      "source": [
        "doc_Q('I can promise it is worth your time.')"
      ],
      "execution_count": null,
      "outputs": [
        {
          "output_type": "stream",
          "text": [
            "Can you really promise it is worth my time?\n",
            "Can you really promise it is worth my time?\n"
          ],
          "name": "stdout"
        }
      ]
    },
    {
      "cell_type": "code",
      "metadata": {
        "id": "6qBRP2Tov5vv"
      },
      "source": [
        "doc = nlp(u'I can promise it is worth your time.')"
      ],
      "execution_count": null,
      "outputs": []
    },
    {
      "cell_type": "code",
      "metadata": {
        "id": "qtdqTGvYK-2e",
        "outputId": "a319a9b8-60ee-4d52-ebbf-62cc5a22420f",
        "colab": {
          "base_uri": "https://localhost:8080/",
          "height": 170
        }
      },
      "source": [
        "for token in doc:\n",
        "  print(token.text, token.pos_, token.tag_, token.dep_, spacy.explain(token.dep_))"
      ],
      "execution_count": null,
      "outputs": [
        {
          "output_type": "stream",
          "text": [
            "I PRON PRP nsubj nominal subject\n",
            "can VERB MD aux auxiliary\n",
            "promise VERB VB ROOT None\n",
            "it PRON PRP nsubj nominal subject\n",
            "is AUX VBZ ccomp clausal complement\n",
            "worth ADJ JJ acomp adjectival complement\n",
            "your DET PRP$ poss possession modifier\n",
            "time NOUN NN npadvmod noun phrase as adverbial modifier\n",
            ". PUNCT . punct punctuation\n"
          ],
          "name": "stdout"
        }
      ]
    },
    {
      "cell_type": "code",
      "metadata": {
        "id": "ffefTbf7LKG5"
      },
      "source": [
        "def find_chunk(doc):\n",
        "\tchunk = ''\n",
        "\tfor i, token in enumerate(doc):\n",
        "\t\tif token.dep_ == 'dobj':\n",
        "\t\t\tshift = len([w for w in token.children])\n",
        "\t\t\t#print([w for w in token.children])\n",
        "\t\t\tchunck = doc[i-shift:i+1]\n",
        "\n",
        "\n",
        "\t\t\tbreak\n",
        "\n",
        "\treturn chunck, shift, i"
      ],
      "execution_count": null,
      "outputs": []
    },
    {
      "cell_type": "code",
      "metadata": {
        "id": "dzOFQfM_NoRu",
        "outputId": "f6ef7fc7-0ad3-4bb1-aca5-6146a1661ded",
        "colab": {
          "base_uri": "https://localhost:8080/",
          "height": 34
        }
      },
      "source": [
        "doc = nlp(u'I want a green apple')\n",
        "find_chunk(doc)"
      ],
      "execution_count": null,
      "outputs": [
        {
          "output_type": "execute_result",
          "data": {
            "text/plain": [
              "(a green apple, 2, 4)"
            ]
          },
          "metadata": {
            "tags": []
          },
          "execution_count": 14
        }
      ]
    },
    {
      "cell_type": "code",
      "metadata": {
        "id": "6h_wGmZgNzc7",
        "outputId": "4e745925-6d3e-4ee7-ca78-2b6df6e49586",
        "colab": {
          "base_uri": "https://localhost:8080/",
          "height": 34
        }
      },
      "source": [
        "!python question.py 'I want a green apple.'"
      ],
      "execution_count": null,
      "outputs": [
        {
          "output_type": "stream",
          "text": [
            "Do you?\n"
          ],
          "name": "stdout"
        }
      ]
    },
    {
      "cell_type": "code",
      "metadata": {
        "id": "uQDt9jE8wG_w",
        "outputId": "ef77a1b5-74b3-47cc-937d-1ab1c26bf2af",
        "colab": {
          "base_uri": "https://localhost:8080/",
          "height": 34
        }
      },
      "source": [
        "!python question.py 'I want an apple.'"
      ],
      "execution_count": null,
      "outputs": [
        {
          "output_type": "stream",
          "text": [
            "Do you?\n"
          ],
          "name": "stdout"
        }
      ]
    },
    {
      "cell_type": "code",
      "metadata": {
        "id": "EaMSRb_Vxs-a"
      },
      "source": [],
      "execution_count": null,
      "outputs": []
    }
  ]
}